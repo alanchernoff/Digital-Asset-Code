{
 "cells": [
  {
   "cell_type": "code",
   "execution_count": 1,
   "metadata": {},
   "outputs": [],
   "source": [
    "import pandas as pd\n",
    "import numpy as np\n",
    "import gzip as gzip\n",
    "import matplotlib.pyplot as plt\n",
    "import statsmodels.tsa.stattools as ts \n",
    "from datetime import datetime, date, timedelta"
   ]
  },
  {
   "cell_type": "markdown",
   "metadata": {},
   "source": [
    "## Read Data"
   ]
  },
  {
   "cell_type": "code",
   "execution_count": 10,
   "metadata": {},
   "outputs": [],
   "source": [
    "ETH_17=pd.read_excel('C:/Users/19084/My Backup Files/Digital Assets/ETH/gemini_ETHUSD_2017_1min.xlsx',parse_dates=[['Date', 'Time']],usecols = ['Date','Time','Close'])\n",
    "ETH_18=pd.read_excel('C:/Users/19084/My Backup Files/Digital Assets/ETH/gemini_ETHUSD_2018_1min.xlsx',parse_dates=[['Date', 'Time']],usecols = ['Date','Time','Close'])\n",
    "ETH_19=pd.read_excel('C:/Users/19084/My Backup Files/Digital Assets/ETH/gemini_ETHUSD_2019_1min.xlsx',parse_dates=[['Date', 'Time']],usecols = ['Date','Time','Close'])\n",
    "ETH_20=pd.read_excel('C:/Users/19084/My Backup Files/Digital Assets/ETH/gemini_ETHUSD_2020_1min.xlsx',parse_dates=[['Date', 'Time']],usecols = ['Date','Time','Close'])\n",
    "\n",
    "BTC_17=pd.read_excel('C:/Users/19084/My Backup Files/Digital Assets/BTC/gemini_BTCUSD_2017_1min.xlsx',parse_dates=[['Date', 'Time']],usecols = ['Date','Time','Close'])\n",
    "BTC_18=pd.read_excel('C:/Users/19084/My Backup Files/Digital Assets/BTC/gemini_BTCUSD_2018_1min.xlsx',parse_dates=[['Date', 'Time']],usecols = ['Date','Time','Close'])\n",
    "BTC_19=pd.read_excel('C:/Users/19084/My Backup Files/Digital Assets/BTC/gemini_BTCUSD_2019_1min.xlsx',parse_dates=[['Date', 'Time']],usecols = ['Date','Time','Close'])\n",
    "BTC_20=pd.read_excel('C:/Users/19084/My Backup Files/Digital Assets/BTC/gemini_BTCUSD_2020_1min.xlsx',parse_dates=[['Date', 'Time']],usecols = ['Date','Time','Close'])"
   ]
  },
  {
   "cell_type": "markdown",
   "metadata": {},
   "source": [
    "## Re-Sample"
   ]
  },
  {
   "cell_type": "code",
   "execution_count": 11,
   "metadata": {},
   "outputs": [],
   "source": [
    "ETH_1min = pd.concat([ETH_17,ETH_18,ETH_19,ETH_20])\n",
    "#ETH_5min=ETH_1min.resample('5T', on='Date_Time').first()\n",
    "#ETH_10min=ETH_1min.resample('10T', on='Date_Time').first()\n",
    "#ETH_15min=ETH_1min.resample('15T', on='Date_Time').first()\n",
    "ETH_30min=ETH_1min.resample('30T', on='Date_Time').first()\n",
    "ETH_60min=ETH_1min.resample('60T', on='Date_Time').first()"
   ]
  },
  {
   "cell_type": "code",
   "execution_count": 12,
   "metadata": {},
   "outputs": [],
   "source": [
    "BTC_1min = pd.concat([BTC_17,BTC_18,BTC_19,BTC_20])\n",
    "#BTC_5min=BTC_1min.resample('5T', on='Date_Time').first()\n",
    "#BTC_10min=BTC_1min.resample('10T', on='Date_Time').first()\n",
    "#BTC_15min=BTC_1min.resample('15T', on='Date_Time').first()\n",
    "BTC_30min=BTC_1min.resample('30T', on='Date_Time').first()\n",
    "BTC_60min=BTC_1min.resample('60T', on='Date_Time').first()"
   ]
  },
  {
   "cell_type": "markdown",
   "metadata": {},
   "source": [
    "## Create Percent Changes"
   ]
  },
  {
   "cell_type": "code",
   "execution_count": 13,
   "metadata": {},
   "outputs": [],
   "source": [
    "#ETH_5min['pct']=ETH_5min['Close'].pct_change().fillna(0)\n",
    "#ETH_10min['pct']=ETH_10min['Close'].pct_change().fillna(0)\n",
    "#ETH_15min['pct']=ETH_15min['Close'].pct_change().fillna(0)\n",
    "ETH_30min['pct']=ETH_30min['Close'].pct_change().fillna(0)\n",
    "ETH_60min['pct']=ETH_60min['Close'].pct_change().fillna(0)"
   ]
  },
  {
   "cell_type": "code",
   "execution_count": 14,
   "metadata": {},
   "outputs": [],
   "source": [
    "#BTC_5min['pct']=BTC_5min['Close'].pct_change().fillna(0)\n",
    "#BTC_10min['pct']=BTC_10min['Close'].pct_change().fillna(0)\n",
    "#BTC_15min['pct']=BTC_15min['Close'].pct_change().fillna(0)\n",
    "BTC_30min['pct']=BTC_30min['Close'].pct_change().fillna(0)\n",
    "BTC_60min['pct']=BTC_60min['Close'].pct_change().fillna(0)"
   ]
  },
  {
   "cell_type": "markdown",
   "metadata": {},
   "source": [
    "## Export Data"
   ]
  },
  {
   "cell_type": "code",
   "execution_count": 15,
   "metadata": {},
   "outputs": [],
   "source": [
    "ETH_30min.to_csv('C:/Users/19084/My Backup Files/Digital Assets/ETH/ETHUSD_30min.csv')\n",
    "ETH_60min.to_csv('C:/Users/19084/My Backup Files/Digital Assets/ETH/ETHUSD_60min.csv')\n",
    "#ETH_15min.to_csv('C:/Users/19084/My Backup Files/Digital Assets/ETH/ETHUSD_15min.csv')\n",
    "#ETH_10min.to_csv('C:/Users/19084/My Backup Files/Digital Assets/ETH/ETHUSD_10min.csv')\n",
    "#ETH_5min.to_csv('C:/Users/19084/My Backup Files/Digital Assets/ETH/ETHUSD_5min.csv')"
   ]
  },
  {
   "cell_type": "code",
   "execution_count": 16,
   "metadata": {},
   "outputs": [],
   "source": [
    "BTC_30min.to_csv('C:/Users/19084/My Backup Files/Digital Assets/BTC/BTCUSD_30min.csv')\n",
    "BTC_60min.to_csv('C:/Users/19084/My Backup Files/Digital Assets/BTC/BTCUSD_60min.csv')\n",
    "#BTC_15min.to_csv('C:/Users/19084/My Backup Files/Digital Assets/BTC/BTCUSD_15min.csv')\n",
    "#BTC_10min.to_csv('C:/Users/19084/My Backup Files/Digital Assets/BTC/BTCUSD_10min.csv')\n",
    "#BTC_5min.to_csv('C:/Users/19084/My Backup Files/Digital Assets/BTC/BTCUSD_5min.csv')"
   ]
  },
  {
   "cell_type": "code",
   "execution_count": 17,
   "metadata": {},
   "outputs": [],
   "source": [
    "ETH_1min.to_csv('C:/Users/19084/My Backup Files/Digital Assets/ETH/ETHUSD_1min.csv')\n",
    "BTC_1min.to_csv('C:/Users/19084/My Backup Files/Digital Assets/BTC/BTCUSD_1min.csv')"
   ]
  },
  {
   "cell_type": "markdown",
   "metadata": {},
   "source": [
    "## 2021 Data"
   ]
  },
  {
   "cell_type": "code",
   "execution_count": 9,
   "metadata": {},
   "outputs": [],
   "source": [
    "ETH_21=pd.read_excel('C:/Users/19084/My Backup Files/Digital Assets/ETH/gemini_ETHUSD_2021_1min.xlsx',parse_dates=[['Date', 'Time']],usecols = ['Date','Time','Close'])\n",
    "BTC_21=pd.read_excel('C:/Users/19084/My Backup Files/Digital Assets/BTC/gemini_BTCUSD_2021_1min.xlsx',parse_dates=[['Date', 'Time']],usecols = ['Date','Time','Close'])"
   ]
  },
  {
   "cell_type": "code",
   "execution_count": 10,
   "metadata": {},
   "outputs": [],
   "source": [
    "BTC_5min21=BTC_21.resample('5T', on='Date_Time').first()\n",
    "BTC_30min21=BTC_21.resample('30T', on='Date_Time').first()\n",
    "BTC_60min21=BTC_21.resample('60T', on='Date_Time').first()\n",
    "\n",
    "ETH_5min21=ETH_21.resample('5T', on='Date_Time').first()\n",
    "ETH_30min21=ETH_21.resample('30T', on='Date_Time').first()\n",
    "ETH_60min21=ETH_21.resample('60T', on='Date_Time').first()"
   ]
  },
  {
   "cell_type": "code",
   "execution_count": 11,
   "metadata": {},
   "outputs": [],
   "source": [
    "ETH_5min21['pct']=ETH_5min21['Close'].pct_change().fillna(0)\n",
    "ETH_30min21['pct']=ETH_30min21['Close'].pct_change().fillna(0)\n",
    "ETH_60min21['pct']=ETH_60min21['Close'].pct_change().fillna(0)\n",
    "BTC_5min21['pct']=BTC_5min21['Close'].pct_change().fillna(0)\n",
    "BTC_30min21['pct']=BTC_30min21['Close'].pct_change().fillna(0)\n",
    "BTC_60min21['pct']=BTC_60min21['Close'].pct_change().fillna(0)"
   ]
  },
  {
   "cell_type": "code",
   "execution_count": 12,
   "metadata": {},
   "outputs": [],
   "source": [
    "ETH_30min21.to_csv('C:/Users/19084/My Backup Files/Digital Assets/ETH/ETHUSD_30min.csv')\n",
    "ETH_60min21.to_csv('C:/Users/19084/My Backup Files/Digital Assets/ETH/ETHUSD_60min.csv')\n",
    "ETH_5min21.to_csv('C:/Users/19084/My Backup Files/Digital Assets/ETH/ETHUSD_5min.csv')\n",
    "BTC_30min21.to_csv('C:/Users/19084/My Backup Files/Digital Assets/BTC/BTCUSD_30min.csv')\n",
    "BTC_60min21.to_csv('C:/Users/19084/My Backup Files/Digital Assets/BTC/BTCUSD_60min.csv')\n",
    "BTC_5min21.to_csv('C:/Users/19084/My Backup Files/Digital Assets/BTC/BTCUSD_5min.csv')"
   ]
  },
  {
   "cell_type": "markdown",
   "metadata": {},
   "source": [
    "## 2022 & 2021 Data"
   ]
  },
  {
   "cell_type": "code",
   "execution_count": 7,
   "metadata": {},
   "outputs": [],
   "source": [
    "ETH_21=pd.read_csv('C:/Users/19084/My Backup Files/Digital Assets/ETH/ETHUSD_2021_1min.csv',parse_dates=['Date'],usecols = ['Date','Close'])"
   ]
  },
  {
   "cell_type": "code",
   "execution_count": 8,
   "metadata": {},
   "outputs": [
    {
     "data": {
      "text/html": [
       "<div>\n",
       "<style scoped>\n",
       "    .dataframe tbody tr th:only-of-type {\n",
       "        vertical-align: middle;\n",
       "    }\n",
       "\n",
       "    .dataframe tbody tr th {\n",
       "        vertical-align: top;\n",
       "    }\n",
       "\n",
       "    .dataframe thead th {\n",
       "        text-align: right;\n",
       "    }\n",
       "</style>\n",
       "<table border=\"1\" class=\"dataframe\">\n",
       "  <thead>\n",
       "    <tr style=\"text-align: right;\">\n",
       "      <th></th>\n",
       "      <th>Date</th>\n",
       "      <th>Close</th>\n",
       "    </tr>\n",
       "  </thead>\n",
       "  <tbody>\n",
       "    <tr>\n",
       "      <th>0</th>\n",
       "      <td>2021-12-31 23:59:00</td>\n",
       "      <td>3677.63</td>\n",
       "    </tr>\n",
       "    <tr>\n",
       "      <th>1</th>\n",
       "      <td>2021-12-31 23:58:00</td>\n",
       "      <td>3675.97</td>\n",
       "    </tr>\n",
       "    <tr>\n",
       "      <th>2</th>\n",
       "      <td>2021-12-31 23:57:00</td>\n",
       "      <td>3677.43</td>\n",
       "    </tr>\n",
       "    <tr>\n",
       "      <th>3</th>\n",
       "      <td>2021-12-31 23:56:00</td>\n",
       "      <td>3678.06</td>\n",
       "    </tr>\n",
       "    <tr>\n",
       "      <th>4</th>\n",
       "      <td>2021-12-31 23:55:00</td>\n",
       "      <td>3676.18</td>\n",
       "    </tr>\n",
       "  </tbody>\n",
       "</table>\n",
       "</div>"
      ],
      "text/plain": [
       "                 Date    Close\n",
       "0 2021-12-31 23:59:00  3677.63\n",
       "1 2021-12-31 23:58:00  3675.97\n",
       "2 2021-12-31 23:57:00  3677.43\n",
       "3 2021-12-31 23:56:00  3678.06\n",
       "4 2021-12-31 23:55:00  3676.18"
      ]
     },
     "execution_count": 8,
     "metadata": {},
     "output_type": "execute_result"
    }
   ],
   "source": [
    "ETH_21.head()"
   ]
  },
  {
   "cell_type": "code",
   "execution_count": 9,
   "metadata": {},
   "outputs": [],
   "source": [
    "ETH_21=pd.read_csv('C:/Users/19084/My Backup Files/Digital Assets/ETH/ETHUSD_2021_1min.csv',parse_dates=['Date'],usecols = ['Date','Close'])\n",
    "BTC_21=pd.read_csv('C:/Users/19084/My Backup Files/Digital Assets/BTC/BTCUSD_2021_1min.csv',parse_dates=['Date'],usecols = ['Date','Close'])\n",
    "ETH_22=pd.read_csv('C:/Users/19084/My Backup Files/Digital Assets/ETH/ETHUSD_2022_1min.csv',parse_dates=['Date'],usecols = ['Date','Close'])\n",
    "BTC_22=pd.read_csv('C:/Users/19084/My Backup Files/Digital Assets/BTC/BTCUSD_2022_1min.csv',parse_dates=['Date'],usecols = ['Date','Close'])"
   ]
  },
  {
   "cell_type": "code",
   "execution_count": 11,
   "metadata": {},
   "outputs": [],
   "source": [
    "BTC_5min21=BTC_21.resample('5T', on='Date').first()\n",
    "BTC_30min21=BTC_21.resample('30T', on='Date').first()\n",
    "BTC_60min21=BTC_21.resample('60T', on='Date').first()\n",
    "\n",
    "ETH_5min21=ETH_21.resample('5T', on='Date').first()\n",
    "ETH_30min21=ETH_21.resample('30T', on='Date').first()\n",
    "ETH_60min21=ETH_21.resample('60T', on='Date').first()\n",
    "\n",
    "BTC_5min22=BTC_22.resample('5T', on='Date').first()\n",
    "BTC_30min22=BTC_22.resample('30T', on='Date').first()\n",
    "BTC_60min22=BTC_22.resample('60T', on='Date').first()\n",
    "\n",
    "ETH_5min22=ETH_22.resample('5T', on='Date').first()\n",
    "ETH_30min22=ETH_22.resample('30T', on='Date').first()\n",
    "ETH_60min22=ETH_22.resample('60T', on='Date').first()"
   ]
  },
  {
   "cell_type": "code",
   "execution_count": 12,
   "metadata": {},
   "outputs": [],
   "source": [
    "ETH_5min21['pct']=ETH_5min21['Close'].pct_change().fillna(0)\n",
    "ETH_30min21['pct']=ETH_30min21['Close'].pct_change().fillna(0)\n",
    "ETH_60min21['pct']=ETH_60min21['Close'].pct_change().fillna(0)\n",
    "BTC_5min21['pct']=BTC_5min21['Close'].pct_change().fillna(0)\n",
    "BTC_30min21['pct']=BTC_30min21['Close'].pct_change().fillna(0)\n",
    "BTC_60min21['pct']=BTC_60min21['Close'].pct_change().fillna(0)\n",
    "ETH_5min22['pct']=ETH_5min22['Close'].pct_change().fillna(0)\n",
    "ETH_30min22['pct']=ETH_30min22['Close'].pct_change().fillna(0)\n",
    "ETH_60min22['pct']=ETH_60min22['Close'].pct_change().fillna(0)\n",
    "BTC_5min22['pct']=BTC_5min22['Close'].pct_change().fillna(0)\n",
    "BTC_30min22['pct']=BTC_30min22['Close'].pct_change().fillna(0)\n",
    "BTC_60min22['pct']=BTC_60min22['Close'].pct_change().fillna(0)"
   ]
  },
  {
   "cell_type": "code",
   "execution_count": 13,
   "metadata": {},
   "outputs": [],
   "source": [
    "ETH_30min21.to_csv('C:/Users/19084/My Backup Files/Digital Assets/ETH/ETHUSD_2021_30min.csv')\n",
    "ETH_60min21.to_csv('C:/Users/19084/My Backup Files/Digital Assets/ETH/ETHUSD_2021_60min.csv')\n",
    "ETH_5min21.to_csv('C:/Users/19084/My Backup Files/Digital Assets/ETH/ETHUSD_2021_5min.csv')\n",
    "BTC_30min21.to_csv('C:/Users/19084/My Backup Files/Digital Assets/BTC/BTCUSD_2021_30min.csv')\n",
    "BTC_60min21.to_csv('C:/Users/19084/My Backup Files/Digital Assets/BTC/BTCUSD_2021_60min.csv')\n",
    "BTC_5min21.to_csv('C:/Users/19084/My Backup Files/Digital Assets/BTC/BTCUSD_2021_5min.csv')\n",
    "ETH_30min22.to_csv('C:/Users/19084/My Backup Files/Digital Assets/ETH/ETHUSD_2022_30min.csv')\n",
    "ETH_60min22.to_csv('C:/Users/19084/My Backup Files/Digital Assets/ETH/ETHUSD_2022_60min.csv')\n",
    "ETH_5min22.to_csv('C:/Users/19084/My Backup Files/Digital Assets/ETH/ETHUSD_2022_5min.csv')\n",
    "BTC_30min22.to_csv('C:/Users/19084/My Backup Files/Digital Assets/BTC/BTCUSD_2022_30min.csv')\n",
    "BTC_60min22.to_csv('C:/Users/19084/My Backup Files/Digital Assets/BTC/BTCUSD_2022_60min.csv')\n",
    "BTC_5min22.to_csv('C:/Users/19084/My Backup Files/Digital Assets/BTC/BTCUSD_2022_5min.csv')"
   ]
  },
  {
   "cell_type": "code",
   "execution_count": null,
   "metadata": {},
   "outputs": [],
   "source": []
  }
 ],
 "metadata": {
  "kernelspec": {
   "display_name": "Python 3 (ipykernel)",
   "language": "python",
   "name": "python3"
  },
  "language_info": {
   "codemirror_mode": {
    "name": "ipython",
    "version": 3
   },
   "file_extension": ".py",
   "mimetype": "text/x-python",
   "name": "python",
   "nbconvert_exporter": "python",
   "pygments_lexer": "ipython3",
   "version": "3.7.3"
  }
 },
 "nbformat": 4,
 "nbformat_minor": 4
}
