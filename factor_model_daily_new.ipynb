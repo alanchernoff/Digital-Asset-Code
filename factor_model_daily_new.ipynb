{
 "cells": [
  {
   "cell_type": "code",
   "execution_count": 314,
   "metadata": {},
   "outputs": [],
   "source": [
    "import pandas as pd\n",
    "import numpy as np\n",
    "import datetime\n",
    "import matplotlib\n",
    "import matplotlib.pyplot as plt\n",
    "import matplotlib.dates as mdates\n",
    "import matplotlib.ticker as mtick\n",
    "from matplotlib.pyplot import figure\n",
    "import scipy as sp\n",
    "import calendar\n",
    "import seaborn as sns\n",
    "import os\n",
    "from scipy.stats import pearsonr\n",
    "from stargazer.stargazer import Stargazer\n",
    "import statsmodels.formula.api as smf\n",
    "from sklearn.preprocessing import StandardScaler\n",
    "from sklearn.decomposition import PCA\n",
    "from datetime import datetime, date, timedelta"
   ]
  },
  {
   "cell_type": "code",
   "execution_count": 315,
   "metadata": {},
   "outputs": [],
   "source": [
    "#!pip install tabulate"
   ]
  },
  {
   "cell_type": "markdown",
   "metadata": {},
   "source": [
    "## Digital Fundametals"
   ]
  },
  {
   "cell_type": "code",
   "execution_count": 316,
   "metadata": {},
   "outputs": [
    {
     "data": {
      "text/html": [
       "<div>\n",
       "<style scoped>\n",
       "    .dataframe tbody tr th:only-of-type {\n",
       "        vertical-align: middle;\n",
       "    }\n",
       "\n",
       "    .dataframe tbody tr th {\n",
       "        vertical-align: top;\n",
       "    }\n",
       "\n",
       "    .dataframe thead th {\n",
       "        text-align: right;\n",
       "    }\n",
       "</style>\n",
       "<table border=\"1\" class=\"dataframe\">\n",
       "  <thead>\n",
       "    <tr style=\"text-align: right;\">\n",
       "      <th></th>\n",
       "      <th>Factor</th>\n",
       "      <th>Category</th>\n",
       "      <th>FactorNum</th>\n",
       "    </tr>\n",
       "  </thead>\n",
       "  <tbody>\n",
       "    <tr>\n",
       "      <th>0</th>\n",
       "      <td>AdrActCnt</td>\n",
       "      <td>Activity</td>\n",
       "      <td>F1</td>\n",
       "    </tr>\n",
       "    <tr>\n",
       "      <th>1</th>\n",
       "      <td>BlkCnt</td>\n",
       "      <td>Blocks</td>\n",
       "      <td>F2</td>\n",
       "    </tr>\n",
       "    <tr>\n",
       "      <th>2</th>\n",
       "      <td>BlkSizeByte</td>\n",
       "      <td>Blocks</td>\n",
       "      <td>F3</td>\n",
       "    </tr>\n",
       "    <tr>\n",
       "      <th>3</th>\n",
       "      <td>BlkSizeMeanByte</td>\n",
       "      <td>Blocks</td>\n",
       "      <td>F4</td>\n",
       "    </tr>\n",
       "    <tr>\n",
       "      <th>4</th>\n",
       "      <td>CapMrktCurUSD</td>\n",
       "      <td>MarketCap</td>\n",
       "      <td>F5</td>\n",
       "    </tr>\n",
       "  </tbody>\n",
       "</table>\n",
       "</div>"
      ],
      "text/plain": [
       "            Factor   Category FactorNum\n",
       "0        AdrActCnt   Activity        F1\n",
       "1           BlkCnt     Blocks        F2\n",
       "2      BlkSizeByte     Blocks        F3\n",
       "3  BlkSizeMeanByte     Blocks        F4\n",
       "4    CapMrktCurUSD  MarketCap        F5"
      ]
     },
     "execution_count": 316,
     "metadata": {},
     "output_type": "execute_result"
    }
   ],
   "source": [
    "factor_dict=pd.read_excel('C:/Users/19084/My Backup Files/Digital Assets/dict.xlsx')\n",
    "factor_dict.head()"
   ]
  },
  {
   "cell_type": "markdown",
   "metadata": {},
   "source": [
    "# Pre-Process Data Functions"
   ]
  },
  {
   "cell_type": "code",
   "execution_count": 317,
   "metadata": {},
   "outputs": [],
   "source": [
    "def factor_read(curr):\n",
    "    wkdir = 'C:/Users/19084/My Backup Files/Digital Assets/'\n",
    "    factor_data = wkdir+'CoinMetricsData/' + curr + '_curr.csv'\n",
    "    dfname = 'factor_data'\n",
    "    dfname = pd.read_csv(factor_data)\n",
    "    return dfname"
   ]
  },
  {
   "cell_type": "code",
   "execution_count": 318,
   "metadata": {},
   "outputs": [],
   "source": [
    "def factor_df(df_in,curr):\n",
    "    df_out=pd.DataFrame(columns=['date'])\n",
    "    df_out['date']=df_in['time']   \n",
    "    for col in df_in.columns:\n",
    "        for j in range(0,len(factor_dict)):\n",
    "            if col==factor_dict['Factor'].iloc[j]:\n",
    "                new_col=curr + '_' + factor_dict['FactorNum'].iloc[j]\n",
    "                df_out[new_col]=df_in[col]\n",
    "    return df_out           "
   ]
  },
  {
   "cell_type": "markdown",
   "metadata": {},
   "source": [
    "## Read and process data"
   ]
  },
  {
   "cell_type": "code",
   "execution_count": 319,
   "metadata": {},
   "outputs": [],
   "source": [
    "btc_factor_raw=factor_read('BTC')\n",
    "#btc_factor_raw.head()"
   ]
  },
  {
   "cell_type": "code",
   "execution_count": 320,
   "metadata": {},
   "outputs": [],
   "source": [
    "btc_factor_df=factor_df(btc_factor_raw,'BTC')\n",
    "#btc_factor_df.head()"
   ]
  },
  {
   "cell_type": "code",
   "execution_count": 321,
   "metadata": {},
   "outputs": [],
   "source": [
    "eth_factor_raw=factor_read('ETH')\n",
    "#eth_factor_raw.head()"
   ]
  },
  {
   "cell_type": "code",
   "execution_count": 326,
   "metadata": {},
   "outputs": [],
   "source": [
    "eth_factor_df=factor_df(eth_factor_raw,'ETH')\n",
    "#eth_factor_df.head()"
   ]
  },
  {
   "cell_type": "markdown",
   "metadata": {},
   "source": [
    "## Moving average"
   ]
  },
  {
   "cell_type": "code",
   "execution_count": 327,
   "metadata": {},
   "outputs": [],
   "source": [
    "def factor_ma(df_in,ma):\n",
    "    df_out=pd.DataFrame(columns=['date'])\n",
    "    df_out['date']=df_in['date']\n",
    "    for col in df_in.columns:\n",
    "        col_name_new=col + '_MA' + str(ma)\n",
    "        if col!='date':\n",
    "            df_out[col_name_new]=df_in[col].rolling(ma).mean()\n",
    "    return df_out"
   ]
  },
  {
   "cell_type": "code",
   "execution_count": 328,
   "metadata": {},
   "outputs": [],
   "source": [
    "btc_factor_ma22=factor_ma(btc_factor_df,22)\n",
    "eth_factor_ma22=factor_ma(eth_factor_df,22)"
   ]
  },
  {
   "cell_type": "markdown",
   "metadata": {},
   "source": [
    "## Merge BTC-ETH"
   ]
  },
  {
   "cell_type": "code",
   "execution_count": 329,
   "metadata": {},
   "outputs": [
    {
     "data": {
      "text/html": [
       "<div>\n",
       "<style scoped>\n",
       "    .dataframe tbody tr th:only-of-type {\n",
       "        vertical-align: middle;\n",
       "    }\n",
       "\n",
       "    .dataframe tbody tr th {\n",
       "        vertical-align: top;\n",
       "    }\n",
       "\n",
       "    .dataframe thead th {\n",
       "        text-align: right;\n",
       "    }\n",
       "</style>\n",
       "<table border=\"1\" class=\"dataframe\">\n",
       "  <thead>\n",
       "    <tr style=\"text-align: right;\">\n",
       "      <th></th>\n",
       "      <th>date</th>\n",
       "      <th>BTC_F1</th>\n",
       "      <th>BTC_F2</th>\n",
       "      <th>BTC_F4</th>\n",
       "      <th>BTC_F5</th>\n",
       "      <th>BTC_F6</th>\n",
       "      <th>BTC_F7</th>\n",
       "      <th>BTC_F8</th>\n",
       "      <th>BTC_F9</th>\n",
       "      <th>BTC_F10</th>\n",
       "      <th>...</th>\n",
       "      <th>ETH_F20</th>\n",
       "      <th>ETH_F21</th>\n",
       "      <th>ETH_F22</th>\n",
       "      <th>ETH_F23</th>\n",
       "      <th>ETH_F24</th>\n",
       "      <th>ETH_F25</th>\n",
       "      <th>ETH_F26</th>\n",
       "      <th>ETH_F27</th>\n",
       "      <th>ETH_F28</th>\n",
       "      <th>ETH_F31</th>\n",
       "    </tr>\n",
       "  </thead>\n",
       "  <tbody>\n",
       "    <tr>\n",
       "      <th>2438</th>\n",
       "      <td>2015-09-07</td>\n",
       "      <td>318515.0</td>\n",
       "      <td>152.0</td>\n",
       "      <td>479678.532895</td>\n",
       "      <td>3.510234e+09</td>\n",
       "      <td>5.695765e+10</td>\n",
       "      <td>0.000236</td>\n",
       "      <td>0.056684</td>\n",
       "      <td>0.0001</td>\n",
       "      <td>0.024063</td>\n",
       "      <td>...</td>\n",
       "      <td>7.306705e+07</td>\n",
       "      <td>5702.0</td>\n",
       "      <td>5506.0</td>\n",
       "      <td>1.439252e+05</td>\n",
       "      <td>1.835924e+05</td>\n",
       "      <td>36.823785</td>\n",
       "      <td>46.972788</td>\n",
       "      <td>2.087818</td>\n",
       "      <td>2.663241</td>\n",
       "      <td>0.127936</td>\n",
       "    </tr>\n",
       "    <tr>\n",
       "      <th>2439</th>\n",
       "      <td>2015-09-08</td>\n",
       "      <td>338676.0</td>\n",
       "      <td>136.0</td>\n",
       "      <td>703476.838235</td>\n",
       "      <td>3.562724e+09</td>\n",
       "      <td>5.695765e+10</td>\n",
       "      <td>0.000205</td>\n",
       "      <td>0.050073</td>\n",
       "      <td>0.0001</td>\n",
       "      <td>0.024417</td>\n",
       "      <td>...</td>\n",
       "      <td>7.309293e+07</td>\n",
       "      <td>5622.0</td>\n",
       "      <td>5570.0</td>\n",
       "      <td>2.232403e+05</td>\n",
       "      <td>2.820627e+05</td>\n",
       "      <td>47.344776</td>\n",
       "      <td>59.819830</td>\n",
       "      <td>2.393153</td>\n",
       "      <td>3.023734</td>\n",
       "      <td>0.127953</td>\n",
       "    </tr>\n",
       "    <tr>\n",
       "      <th>2440</th>\n",
       "      <td>2015-09-09</td>\n",
       "      <td>298432.0</td>\n",
       "      <td>149.0</td>\n",
       "      <td>730847.134228</td>\n",
       "      <td>3.484056e+09</td>\n",
       "      <td>5.695765e+10</td>\n",
       "      <td>0.000217</td>\n",
       "      <td>0.051766</td>\n",
       "      <td>0.0001</td>\n",
       "      <td>0.023872</td>\n",
       "      <td>...</td>\n",
       "      <td>7.311937e+07</td>\n",
       "      <td>5604.0</td>\n",
       "      <td>5531.0</td>\n",
       "      <td>1.112715e+06</td>\n",
       "      <td>1.346385e+06</td>\n",
       "      <td>207.924885</td>\n",
       "      <td>251.589110</td>\n",
       "      <td>2.018485</td>\n",
       "      <td>2.442367</td>\n",
       "      <td>0.128217</td>\n",
       "    </tr>\n",
       "    <tr>\n",
       "      <th>2441</th>\n",
       "      <td>2015-09-10</td>\n",
       "      <td>283028.0</td>\n",
       "      <td>171.0</td>\n",
       "      <td>682503.847953</td>\n",
       "      <td>3.485486e+09</td>\n",
       "      <td>5.695765e+10</td>\n",
       "      <td>0.000221</td>\n",
       "      <td>0.052781</td>\n",
       "      <td>0.0001</td>\n",
       "      <td>0.023875</td>\n",
       "      <td>...</td>\n",
       "      <td>7.314581e+07</td>\n",
       "      <td>5341.0</td>\n",
       "      <td>5243.0</td>\n",
       "      <td>1.385908e+05</td>\n",
       "      <td>1.643271e+05</td>\n",
       "      <td>39.296958</td>\n",
       "      <td>46.594403</td>\n",
       "      <td>2.404459</td>\n",
       "      <td>2.850967</td>\n",
       "      <td>0.123046</td>\n",
       "    </tr>\n",
       "    <tr>\n",
       "      <th>2442</th>\n",
       "      <td>2015-09-11</td>\n",
       "      <td>317585.0</td>\n",
       "      <td>158.0</td>\n",
       "      <td>713392.594937</td>\n",
       "      <td>3.517014e+09</td>\n",
       "      <td>5.695765e+10</td>\n",
       "      <td>0.000212</td>\n",
       "      <td>0.051100</td>\n",
       "      <td>0.0001</td>\n",
       "      <td>0.024085</td>\n",
       "      <td>...</td>\n",
       "      <td>7.317305e+07</td>\n",
       "      <td>6460.0</td>\n",
       "      <td>6319.0</td>\n",
       "      <td>5.759335e+05</td>\n",
       "      <td>5.343026e+05</td>\n",
       "      <td>115.064924</td>\n",
       "      <td>106.747538</td>\n",
       "      <td>2.078264</td>\n",
       "      <td>1.928038</td>\n",
       "      <td>0.121418</td>\n",
       "    </tr>\n",
       "  </tbody>\n",
       "</table>\n",
       "<p>5 rows × 57 columns</p>\n",
       "</div>"
      ],
      "text/plain": [
       "            date    BTC_F1  BTC_F2         BTC_F4        BTC_F5        BTC_F6  \\\n",
       "2438  2015-09-07  318515.0   152.0  479678.532895  3.510234e+09  5.695765e+10   \n",
       "2439  2015-09-08  338676.0   136.0  703476.838235  3.562724e+09  5.695765e+10   \n",
       "2440  2015-09-09  298432.0   149.0  730847.134228  3.484056e+09  5.695765e+10   \n",
       "2441  2015-09-10  283028.0   171.0  682503.847953  3.485486e+09  5.695765e+10   \n",
       "2442  2015-09-11  317585.0   158.0  713392.594937  3.517014e+09  5.695765e+10   \n",
       "\n",
       "        BTC_F7    BTC_F8  BTC_F9   BTC_F10  ...       ETH_F20  ETH_F21  \\\n",
       "2438  0.000236  0.056684  0.0001  0.024063  ...  7.306705e+07   5702.0   \n",
       "2439  0.000205  0.050073  0.0001  0.024417  ...  7.309293e+07   5622.0   \n",
       "2440  0.000217  0.051766  0.0001  0.023872  ...  7.311937e+07   5604.0   \n",
       "2441  0.000221  0.052781  0.0001  0.023875  ...  7.314581e+07   5341.0   \n",
       "2442  0.000212  0.051100  0.0001  0.024085  ...  7.317305e+07   6460.0   \n",
       "\n",
       "      ETH_F22       ETH_F23       ETH_F24     ETH_F25     ETH_F26   ETH_F27  \\\n",
       "2438   5506.0  1.439252e+05  1.835924e+05   36.823785   46.972788  2.087818   \n",
       "2439   5570.0  2.232403e+05  2.820627e+05   47.344776   59.819830  2.393153   \n",
       "2440   5531.0  1.112715e+06  1.346385e+06  207.924885  251.589110  2.018485   \n",
       "2441   5243.0  1.385908e+05  1.643271e+05   39.296958   46.594403  2.404459   \n",
       "2442   6319.0  5.759335e+05  5.343026e+05  115.064924  106.747538  2.078264   \n",
       "\n",
       "       ETH_F28   ETH_F31  \n",
       "2438  2.663241  0.127936  \n",
       "2439  3.023734  0.127953  \n",
       "2440  2.442367  0.128217  \n",
       "2441  2.850967  0.123046  \n",
       "2442  1.928038  0.121418  \n",
       "\n",
       "[5 rows x 57 columns]"
      ]
     },
     "execution_count": 329,
     "metadata": {},
     "output_type": "execute_result"
    }
   ],
   "source": [
    "btc_eth_factor_df = pd.merge(btc_factor_df,eth_factor_df, on='date', how='outer')\n",
    "btc_eth_factor_ma22 = pd.merge(btc_factor_ma22,eth_factor_ma22, on='date', how='outer')\n",
    "btc_eth_factor_clean_full_df=btc_eth_factor_df.dropna().copy()\n",
    "btc_eth_factor_clean_full_ma22=btc_eth_factor_ma22.dropna().copy()\n",
    "btc_eth_factor_clean_full_df.head()"
   ]
  },
  {
   "cell_type": "markdown",
   "metadata": {},
   "source": [
    "# Prices"
   ]
  },
  {
   "cell_type": "code",
   "execution_count": 330,
   "metadata": {},
   "outputs": [],
   "source": [
    "def price_returns(curr):\n",
    "    wkdir = 'C:/Users/19084/My Backup Files/Digital Assets/'\n",
    "    price_data = wkdir+'CoinMetricsData/' + curr + '_curr.csv'\n",
    "    temp = pd.read_csv(price_data)\n",
    "    curr_price = curr+'_USD'\n",
    "    df_out=pd.DataFrame(columns=['date',curr_price])\n",
    "    df_out['date']=temp['time']\n",
    "    df_out[curr_price]=temp['PriceUSD']\n",
    "    df_out.dropna(inplace=True)\n",
    "    curr_ret = curr + '_Ret'\n",
    "    df_out[curr_ret]=df_out[curr_price].pct_change()\n",
    "    df_clean=df_out[['date',curr_price,curr_ret]].copy()\n",
    "    return df_clean\n",
    "    # return df_out"
   ]
  },
  {
   "cell_type": "code",
   "execution_count": 331,
   "metadata": {},
   "outputs": [],
   "source": [
    "def price_returns_m(curr):\n",
    "    wkdir = 'C:/Users/19084/My Backup Files/Digital Assets/'\n",
    "    price_data = wkdir+'CoinMetricsData/' + curr + '_curr.csv'\n",
    "    temp = pd.read_csv(price_data)\n",
    "    curr_price = curr+'_USD'\n",
    "    df_out=pd.DataFrame(columns=['date',curr_price])\n",
    "    df_out['date']=temp['time']\n",
    "    df_out[curr_price]=temp['PriceUSD']\n",
    "    df_out.dropna(inplace=True)\n",
    "    df_out['month']= pd.DatetimeIndex(df_out['date']).month\n",
    "    df_out['lmonth']=df_out['month'].shift(-1)\n",
    "    df_out['diffmonth']=df_out['month']-df_out['lmonth']\n",
    "    df_out['dmonth']=df_out['diffmonth'].apply(lambda x: 1 if x!=0 else 0)\n",
    "    curr_eom = curr_price + '_EoM'\n",
    "    df_out[curr_eom]=df_out['dmonth']*df_out[curr_price]\n",
    "    eom_df=df_out[df_out[curr_eom]>0]\n",
    "    curr_ret = curr + '_Ret'\n",
    "    eom_df[curr_ret]=eom_df[curr_eom].pct_change()\n",
    "    eom_df_clean=eom_df[['date',curr_price,curr_ret]].copy()\n",
    "    return eom_df_clean\n",
    "    # return df_out"
   ]
  },
  {
   "cell_type": "code",
   "execution_count": 332,
   "metadata": {},
   "outputs": [
    {
     "name": "stderr",
     "output_type": "stream",
     "text": [
      "C:\\Users\\19084\\Anaconda3\\lib\\site-packages\\ipykernel_launcher.py:18: SettingWithCopyWarning: \n",
      "A value is trying to be set on a copy of a slice from a DataFrame.\n",
      "Try using .loc[row_indexer,col_indexer] = value instead\n",
      "\n",
      "See the caveats in the documentation: https://pandas.pydata.org/pandas-docs/stable/user_guide/indexing.html#returning-a-view-versus-a-copy\n"
     ]
    }
   ],
   "source": [
    "btc_price=price_returns('BTC')\n",
    "eth_price=price_returns('ETH')\n",
    "btc_price_m=price_returns_m('BTC')\n",
    "eth_price_m=price_returns_m('ETH')"
   ]
  },
  {
   "cell_type": "code",
   "execution_count": 333,
   "metadata": {},
   "outputs": [
    {
     "data": {
      "text/html": [
       "<div>\n",
       "<style scoped>\n",
       "    .dataframe tbody tr th:only-of-type {\n",
       "        vertical-align: middle;\n",
       "    }\n",
       "\n",
       "    .dataframe tbody tr th {\n",
       "        vertical-align: top;\n",
       "    }\n",
       "\n",
       "    .dataframe thead th {\n",
       "        text-align: right;\n",
       "    }\n",
       "</style>\n",
       "<table border=\"1\" class=\"dataframe\">\n",
       "  <thead>\n",
       "    <tr style=\"text-align: right;\">\n",
       "      <th></th>\n",
       "      <th>date</th>\n",
       "      <th>ETH_USD</th>\n",
       "      <th>ETH_Ret</th>\n",
       "    </tr>\n",
       "  </thead>\n",
       "  <tbody>\n",
       "    <tr>\n",
       "      <th>9</th>\n",
       "      <td>2015-08-08</td>\n",
       "      <td>1.19999</td>\n",
       "      <td>NaN</td>\n",
       "    </tr>\n",
       "    <tr>\n",
       "      <th>10</th>\n",
       "      <td>2015-08-09</td>\n",
       "      <td>1.19999</td>\n",
       "      <td>0.000000</td>\n",
       "    </tr>\n",
       "    <tr>\n",
       "      <th>11</th>\n",
       "      <td>2015-08-10</td>\n",
       "      <td>1.19999</td>\n",
       "      <td>0.000000</td>\n",
       "    </tr>\n",
       "    <tr>\n",
       "      <th>12</th>\n",
       "      <td>2015-08-11</td>\n",
       "      <td>0.99000</td>\n",
       "      <td>-0.174993</td>\n",
       "    </tr>\n",
       "    <tr>\n",
       "      <th>13</th>\n",
       "      <td>2015-08-12</td>\n",
       "      <td>1.28800</td>\n",
       "      <td>0.301010</td>\n",
       "    </tr>\n",
       "  </tbody>\n",
       "</table>\n",
       "</div>"
      ],
      "text/plain": [
       "          date  ETH_USD   ETH_Ret\n",
       "9   2015-08-08  1.19999       NaN\n",
       "10  2015-08-09  1.19999  0.000000\n",
       "11  2015-08-10  1.19999  0.000000\n",
       "12  2015-08-11  0.99000 -0.174993\n",
       "13  2015-08-12  1.28800  0.301010"
      ]
     },
     "execution_count": 333,
     "metadata": {},
     "output_type": "execute_result"
    }
   ],
   "source": [
    "eth_price.head()"
   ]
  },
  {
   "cell_type": "markdown",
   "metadata": {},
   "source": [
    "## Merge BTC-ETH prices and returns"
   ]
  },
  {
   "cell_type": "code",
   "execution_count": 334,
   "metadata": {},
   "outputs": [
    {
     "name": "stderr",
     "output_type": "stream",
     "text": [
      "C:\\Users\\19084\\Anaconda3\\lib\\site-packages\\ipykernel_launcher.py:3: SettingWithCopyWarning: \n",
      "A value is trying to be set on a copy of a slice from a DataFrame.\n",
      "Try using .loc[row_indexer,col_indexer] = value instead\n",
      "\n",
      "See the caveats in the documentation: https://pandas.pydata.org/pandas-docs/stable/user_guide/indexing.html#returning-a-view-versus-a-copy\n",
      "  This is separate from the ipykernel package so we can avoid doing imports until\n"
     ]
    },
    {
     "data": {
      "text/html": [
       "<div>\n",
       "<style scoped>\n",
       "    .dataframe tbody tr th:only-of-type {\n",
       "        vertical-align: middle;\n",
       "    }\n",
       "\n",
       "    .dataframe tbody tr th {\n",
       "        vertical-align: top;\n",
       "    }\n",
       "\n",
       "    .dataframe thead th {\n",
       "        text-align: right;\n",
       "    }\n",
       "</style>\n",
       "<table border=\"1\" class=\"dataframe\">\n",
       "  <thead>\n",
       "    <tr style=\"text-align: right;\">\n",
       "      <th></th>\n",
       "      <th>date</th>\n",
       "      <th>BTC_USD</th>\n",
       "      <th>BTC_Ret</th>\n",
       "      <th>ETH_USD</th>\n",
       "      <th>ETH_Ret</th>\n",
       "      <th>BTC_ETH_Ret</th>\n",
       "    </tr>\n",
       "  </thead>\n",
       "  <tbody>\n",
       "    <tr>\n",
       "      <th>1848</th>\n",
       "      <td>2015-08-09</td>\n",
       "      <td>266.342020</td>\n",
       "      <td>0.018710</td>\n",
       "      <td>1.19999</td>\n",
       "      <td>0.000000</td>\n",
       "      <td>0.018710</td>\n",
       "    </tr>\n",
       "    <tr>\n",
       "      <th>1849</th>\n",
       "      <td>2015-08-10</td>\n",
       "      <td>264.928825</td>\n",
       "      <td>-0.005306</td>\n",
       "      <td>1.19999</td>\n",
       "      <td>0.000000</td>\n",
       "      <td>-0.005306</td>\n",
       "    </tr>\n",
       "    <tr>\n",
       "      <th>1850</th>\n",
       "      <td>2015-08-11</td>\n",
       "      <td>271.421736</td>\n",
       "      <td>0.024508</td>\n",
       "      <td>0.99000</td>\n",
       "      <td>-0.174993</td>\n",
       "      <td>0.199501</td>\n",
       "    </tr>\n",
       "    <tr>\n",
       "      <th>1851</th>\n",
       "      <td>2015-08-12</td>\n",
       "      <td>268.143868</td>\n",
       "      <td>-0.012077</td>\n",
       "      <td>1.28800</td>\n",
       "      <td>0.301010</td>\n",
       "      <td>-0.313087</td>\n",
       "    </tr>\n",
       "    <tr>\n",
       "      <th>1852</th>\n",
       "      <td>2015-08-13</td>\n",
       "      <td>264.691628</td>\n",
       "      <td>-0.012875</td>\n",
       "      <td>1.88480</td>\n",
       "      <td>0.463354</td>\n",
       "      <td>-0.476229</td>\n",
       "    </tr>\n",
       "  </tbody>\n",
       "</table>\n",
       "</div>"
      ],
      "text/plain": [
       "            date     BTC_USD   BTC_Ret  ETH_USD   ETH_Ret  BTC_ETH_Ret\n",
       "1848  2015-08-09  266.342020  0.018710  1.19999  0.000000     0.018710\n",
       "1849  2015-08-10  264.928825 -0.005306  1.19999  0.000000    -0.005306\n",
       "1850  2015-08-11  271.421736  0.024508  0.99000 -0.174993     0.199501\n",
       "1851  2015-08-12  268.143868 -0.012077  1.28800  0.301010    -0.313087\n",
       "1852  2015-08-13  264.691628 -0.012875  1.88480  0.463354    -0.476229"
      ]
     },
     "execution_count": 334,
     "metadata": {},
     "output_type": "execute_result"
    }
   ],
   "source": [
    "btc_eth_price=pd.merge(btc_price,eth_price, on='date', how='outer')\n",
    "btc_eth_price_clean=btc_eth_price.dropna()\n",
    "btc_eth_price_clean['BTC_ETH_Ret']=btc_eth_price_clean['BTC_Ret']-btc_eth_price_clean['ETH_Ret']\n",
    "btc_eth_price_clean.head()"
   ]
  },
  {
   "cell_type": "code",
   "execution_count": 335,
   "metadata": {},
   "outputs": [
    {
     "name": "stderr",
     "output_type": "stream",
     "text": [
      "C:\\Users\\19084\\Anaconda3\\lib\\site-packages\\ipykernel_launcher.py:3: SettingWithCopyWarning: \n",
      "A value is trying to be set on a copy of a slice from a DataFrame.\n",
      "Try using .loc[row_indexer,col_indexer] = value instead\n",
      "\n",
      "See the caveats in the documentation: https://pandas.pydata.org/pandas-docs/stable/user_guide/indexing.html#returning-a-view-versus-a-copy\n",
      "  This is separate from the ipykernel package so we can avoid doing imports until\n"
     ]
    },
    {
     "data": {
      "text/html": [
       "<div>\n",
       "<style scoped>\n",
       "    .dataframe tbody tr th:only-of-type {\n",
       "        vertical-align: middle;\n",
       "    }\n",
       "\n",
       "    .dataframe tbody tr th {\n",
       "        vertical-align: top;\n",
       "    }\n",
       "\n",
       "    .dataframe thead th {\n",
       "        text-align: right;\n",
       "    }\n",
       "</style>\n",
       "<table border=\"1\" class=\"dataframe\">\n",
       "  <thead>\n",
       "    <tr style=\"text-align: right;\">\n",
       "      <th></th>\n",
       "      <th>date</th>\n",
       "      <th>BTC_USD</th>\n",
       "      <th>BTC_Ret</th>\n",
       "      <th>ETH_USD</th>\n",
       "      <th>ETH_Ret</th>\n",
       "      <th>BTC_ETH_Ret</th>\n",
       "    </tr>\n",
       "  </thead>\n",
       "  <tbody>\n",
       "    <tr>\n",
       "      <th>62</th>\n",
       "      <td>2015-09-30</td>\n",
       "      <td>236.739848</td>\n",
       "      <td>0.026227</td>\n",
       "      <td>0.713644</td>\n",
       "      <td>-0.453778</td>\n",
       "      <td>0.480006</td>\n",
       "    </tr>\n",
       "    <tr>\n",
       "      <th>63</th>\n",
       "      <td>2015-10-31</td>\n",
       "      <td>314.119508</td>\n",
       "      <td>0.326855</td>\n",
       "      <td>0.889343</td>\n",
       "      <td>0.246199</td>\n",
       "      <td>0.080657</td>\n",
       "    </tr>\n",
       "    <tr>\n",
       "      <th>64</th>\n",
       "      <td>2015-11-30</td>\n",
       "      <td>377.389840</td>\n",
       "      <td>0.201421</td>\n",
       "      <td>0.880000</td>\n",
       "      <td>-0.010505</td>\n",
       "      <td>0.211926</td>\n",
       "    </tr>\n",
       "    <tr>\n",
       "      <th>65</th>\n",
       "      <td>2015-12-31</td>\n",
       "      <td>429.677153</td>\n",
       "      <td>0.138550</td>\n",
       "      <td>0.948840</td>\n",
       "      <td>0.078227</td>\n",
       "      <td>0.060323</td>\n",
       "    </tr>\n",
       "    <tr>\n",
       "      <th>66</th>\n",
       "      <td>2016-01-31</td>\n",
       "      <td>366.341688</td>\n",
       "      <td>-0.147402</td>\n",
       "      <td>2.242672</td>\n",
       "      <td>1.363593</td>\n",
       "      <td>-1.510996</td>\n",
       "    </tr>\n",
       "  </tbody>\n",
       "</table>\n",
       "</div>"
      ],
      "text/plain": [
       "          date     BTC_USD   BTC_Ret   ETH_USD   ETH_Ret  BTC_ETH_Ret\n",
       "62  2015-09-30  236.739848  0.026227  0.713644 -0.453778     0.480006\n",
       "63  2015-10-31  314.119508  0.326855  0.889343  0.246199     0.080657\n",
       "64  2015-11-30  377.389840  0.201421  0.880000 -0.010505     0.211926\n",
       "65  2015-12-31  429.677153  0.138550  0.948840  0.078227     0.060323\n",
       "66  2016-01-31  366.341688 -0.147402  2.242672  1.363593    -1.510996"
      ]
     },
     "execution_count": 335,
     "metadata": {},
     "output_type": "execute_result"
    }
   ],
   "source": [
    "btc_eth_price_m=pd.merge(btc_price_m,eth_price_m, on='date', how='outer')\n",
    "btc_eth_price_m_clean=btc_eth_price_m.dropna()\n",
    "btc_eth_price_m_clean['BTC_ETH_Ret']=btc_eth_price_m_clean['BTC_Ret']-btc_eth_price_m_clean['ETH_Ret']\n",
    "btc_eth_price_m_clean.head()"
   ]
  },
  {
   "cell_type": "code",
   "execution_count": 336,
   "metadata": {},
   "outputs": [
    {
     "data": {
      "text/html": [
       "<div>\n",
       "<style scoped>\n",
       "    .dataframe tbody tr th:only-of-type {\n",
       "        vertical-align: middle;\n",
       "    }\n",
       "\n",
       "    .dataframe tbody tr th {\n",
       "        vertical-align: top;\n",
       "    }\n",
       "\n",
       "    .dataframe thead th {\n",
       "        text-align: right;\n",
       "    }\n",
       "</style>\n",
       "<table border=\"1\" class=\"dataframe\">\n",
       "  <thead>\n",
       "    <tr style=\"text-align: right;\">\n",
       "      <th></th>\n",
       "      <th>date</th>\n",
       "      <th>BTC_USD</th>\n",
       "      <th>BTC_Ret</th>\n",
       "      <th>ETH_USD</th>\n",
       "      <th>ETH_Ret</th>\n",
       "      <th>BTC_ETH_Ret</th>\n",
       "      <th>BTC_F1_MA22</th>\n",
       "      <th>BTC_F2_MA22</th>\n",
       "      <th>BTC_F4_MA22</th>\n",
       "      <th>BTC_F5_MA22</th>\n",
       "      <th>...</th>\n",
       "      <th>ETH_F20_MA22</th>\n",
       "      <th>ETH_F21_MA22</th>\n",
       "      <th>ETH_F22_MA22</th>\n",
       "      <th>ETH_F23_MA22</th>\n",
       "      <th>ETH_F24_MA22</th>\n",
       "      <th>ETH_F25_MA22</th>\n",
       "      <th>ETH_F26_MA22</th>\n",
       "      <th>ETH_F27_MA22</th>\n",
       "      <th>ETH_F28_MA22</th>\n",
       "      <th>ETH_F31_MA22</th>\n",
       "    </tr>\n",
       "  </thead>\n",
       "  <tbody>\n",
       "    <tr>\n",
       "      <th>0</th>\n",
       "      <td>2015-09-30</td>\n",
       "      <td>236.739848</td>\n",
       "      <td>0.026227</td>\n",
       "      <td>0.713644</td>\n",
       "      <td>-0.453778</td>\n",
       "      <td>0.480006</td>\n",
       "      <td>313073.136364</td>\n",
       "      <td>148.818182</td>\n",
       "      <td>570940.558828</td>\n",
       "      <td>3.422213e+09</td>\n",
       "      <td>...</td>\n",
       "      <td>7.339591e+07</td>\n",
       "      <td>5939.727273</td>\n",
       "      <td>5809.818182</td>\n",
       "      <td>360114.289817</td>\n",
       "      <td>3.234671e+05</td>\n",
       "      <td>76.520689</td>\n",
       "      <td>67.992275</td>\n",
       "      <td>1.973719</td>\n",
       "      <td>1.741110</td>\n",
       "      <td>0.107434</td>\n",
       "    </tr>\n",
       "    <tr>\n",
       "      <th>1</th>\n",
       "      <td>2015-10-31</td>\n",
       "      <td>314.119508</td>\n",
       "      <td>0.326855</td>\n",
       "      <td>0.889343</td>\n",
       "      <td>0.246199</td>\n",
       "      <td>0.080657</td>\n",
       "      <td>350885.363636</td>\n",
       "      <td>149.136364</td>\n",
       "      <td>557225.532919</td>\n",
       "      <td>4.068208e+09</td>\n",
       "      <td>...</td>\n",
       "      <td>7.420567e+07</td>\n",
       "      <td>6649.000000</td>\n",
       "      <td>6327.772727</td>\n",
       "      <td>471823.955653</td>\n",
       "      <td>3.448106e+05</td>\n",
       "      <td>91.897425</td>\n",
       "      <td>65.094788</td>\n",
       "      <td>2.122669</td>\n",
       "      <td>1.430867</td>\n",
       "      <td>0.098419</td>\n",
       "    </tr>\n",
       "    <tr>\n",
       "      <th>2</th>\n",
       "      <td>2015-11-30</td>\n",
       "      <td>377.389840</td>\n",
       "      <td>0.201421</td>\n",
       "      <td>0.880000</td>\n",
       "      <td>-0.010505</td>\n",
       "      <td>0.211926</td>\n",
       "      <td>383127.136364</td>\n",
       "      <td>156.863636</td>\n",
       "      <td>543914.617522</td>\n",
       "      <td>5.031982e+09</td>\n",
       "      <td>...</td>\n",
       "      <td>7.502103e+07</td>\n",
       "      <td>7637.954545</td>\n",
       "      <td>6856.545455</td>\n",
       "      <td>494697.325521</td>\n",
       "      <td>4.589952e+05</td>\n",
       "      <td>78.371142</td>\n",
       "      <td>72.694852</td>\n",
       "      <td>2.271409</td>\n",
       "      <td>2.068733</td>\n",
       "      <td>0.115579</td>\n",
       "    </tr>\n",
       "    <tr>\n",
       "      <th>3</th>\n",
       "      <td>2015-12-31</td>\n",
       "      <td>429.677153</td>\n",
       "      <td>0.138550</td>\n",
       "      <td>0.948840</td>\n",
       "      <td>0.078227</td>\n",
       "      <td>0.060323</td>\n",
       "      <td>456927.772727</td>\n",
       "      <td>164.363636</td>\n",
       "      <td>629535.424521</td>\n",
       "      <td>6.608428e+09</td>\n",
       "      <td>...</td>\n",
       "      <td>7.585847e+07</td>\n",
       "      <td>12872.772727</td>\n",
       "      <td>10128.181818</td>\n",
       "      <td>289677.091930</td>\n",
       "      <td>2.629607e+05</td>\n",
       "      <td>34.589904</td>\n",
       "      <td>31.369863</td>\n",
       "      <td>1.189122</td>\n",
       "      <td>1.065410</td>\n",
       "      <td>0.047791</td>\n",
       "    </tr>\n",
       "    <tr>\n",
       "      <th>4</th>\n",
       "      <td>2016-01-31</td>\n",
       "      <td>366.341688</td>\n",
       "      <td>-0.147402</td>\n",
       "      <td>2.242672</td>\n",
       "      <td>1.363593</td>\n",
       "      <td>-1.510996</td>\n",
       "      <td>488123.454545</td>\n",
       "      <td>158.727273</td>\n",
       "      <td>693919.179089</td>\n",
       "      <td>6.031319e+09</td>\n",
       "      <td>...</td>\n",
       "      <td>7.669212e+07</td>\n",
       "      <td>13199.818182</td>\n",
       "      <td>11669.045455</td>\n",
       "      <td>808837.792942</td>\n",
       "      <td>1.533407e+06</td>\n",
       "      <td>87.590428</td>\n",
       "      <td>158.919503</td>\n",
       "      <td>1.376002</td>\n",
       "      <td>2.316887</td>\n",
       "      <td>0.056826</td>\n",
       "    </tr>\n",
       "  </tbody>\n",
       "</table>\n",
       "<p>5 rows × 62 columns</p>\n",
       "</div>"
      ],
      "text/plain": [
       "         date     BTC_USD   BTC_Ret   ETH_USD   ETH_Ret  BTC_ETH_Ret  \\\n",
       "0  2015-09-30  236.739848  0.026227  0.713644 -0.453778     0.480006   \n",
       "1  2015-10-31  314.119508  0.326855  0.889343  0.246199     0.080657   \n",
       "2  2015-11-30  377.389840  0.201421  0.880000 -0.010505     0.211926   \n",
       "3  2015-12-31  429.677153  0.138550  0.948840  0.078227     0.060323   \n",
       "4  2016-01-31  366.341688 -0.147402  2.242672  1.363593    -1.510996   \n",
       "\n",
       "     BTC_F1_MA22  BTC_F2_MA22    BTC_F4_MA22   BTC_F5_MA22  ...  ETH_F20_MA22  \\\n",
       "0  313073.136364   148.818182  570940.558828  3.422213e+09  ...  7.339591e+07   \n",
       "1  350885.363636   149.136364  557225.532919  4.068208e+09  ...  7.420567e+07   \n",
       "2  383127.136364   156.863636  543914.617522  5.031982e+09  ...  7.502103e+07   \n",
       "3  456927.772727   164.363636  629535.424521  6.608428e+09  ...  7.585847e+07   \n",
       "4  488123.454545   158.727273  693919.179089  6.031319e+09  ...  7.669212e+07   \n",
       "\n",
       "   ETH_F21_MA22  ETH_F22_MA22   ETH_F23_MA22  ETH_F24_MA22  ETH_F25_MA22  \\\n",
       "0   5939.727273   5809.818182  360114.289817  3.234671e+05     76.520689   \n",
       "1   6649.000000   6327.772727  471823.955653  3.448106e+05     91.897425   \n",
       "2   7637.954545   6856.545455  494697.325521  4.589952e+05     78.371142   \n",
       "3  12872.772727  10128.181818  289677.091930  2.629607e+05     34.589904   \n",
       "4  13199.818182  11669.045455  808837.792942  1.533407e+06     87.590428   \n",
       "\n",
       "   ETH_F26_MA22  ETH_F27_MA22  ETH_F28_MA22  ETH_F31_MA22  \n",
       "0     67.992275      1.973719      1.741110      0.107434  \n",
       "1     65.094788      2.122669      1.430867      0.098419  \n",
       "2     72.694852      2.271409      2.068733      0.115579  \n",
       "3     31.369863      1.189122      1.065410      0.047791  \n",
       "4    158.919503      1.376002      2.316887      0.056826  \n",
       "\n",
       "[5 rows x 62 columns]"
      ]
     },
     "execution_count": 336,
     "metadata": {},
     "output_type": "execute_result"
    }
   ],
   "source": [
    "btc_eth_model_m=pd.merge(btc_eth_price_m_clean,btc_eth_factor_clean_full_ma22, on='date', how='outer')\n",
    "btc_eth_model_m_keep=btc_eth_model_m.dropna()\n",
    "btc_eth_model_m=btc_eth_model_m_keep\n",
    "btc_eth_model_m.head()"
   ]
  },
  {
   "cell_type": "code",
   "execution_count": 337,
   "metadata": {},
   "outputs": [
    {
     "data": {
      "text/html": [
       "<div>\n",
       "<style scoped>\n",
       "    .dataframe tbody tr th:only-of-type {\n",
       "        vertical-align: middle;\n",
       "    }\n",
       "\n",
       "    .dataframe tbody tr th {\n",
       "        vertical-align: top;\n",
       "    }\n",
       "\n",
       "    .dataframe thead th {\n",
       "        text-align: right;\n",
       "    }\n",
       "</style>\n",
       "<table border=\"1\" class=\"dataframe\">\n",
       "  <thead>\n",
       "    <tr style=\"text-align: right;\">\n",
       "      <th></th>\n",
       "      <th>date</th>\n",
       "      <th>BTC_USD</th>\n",
       "      <th>BTC_Ret</th>\n",
       "      <th>ETH_USD</th>\n",
       "      <th>ETH_Ret</th>\n",
       "      <th>BTC_ETH_Ret</th>\n",
       "      <th>BTC_F1</th>\n",
       "      <th>BTC_F2</th>\n",
       "      <th>BTC_F4</th>\n",
       "      <th>BTC_F5</th>\n",
       "      <th>...</th>\n",
       "      <th>ETH_F20</th>\n",
       "      <th>ETH_F21</th>\n",
       "      <th>ETH_F22</th>\n",
       "      <th>ETH_F23</th>\n",
       "      <th>ETH_F24</th>\n",
       "      <th>ETH_F25</th>\n",
       "      <th>ETH_F26</th>\n",
       "      <th>ETH_F27</th>\n",
       "      <th>ETH_F28</th>\n",
       "      <th>ETH_F31</th>\n",
       "    </tr>\n",
       "  </thead>\n",
       "  <tbody>\n",
       "    <tr>\n",
       "      <th>29</th>\n",
       "      <td>2015-09-07</td>\n",
       "      <td>240.633616</td>\n",
       "      <td>-0.000714</td>\n",
       "      <td>1.275610</td>\n",
       "      <td>-0.048052</td>\n",
       "      <td>0.047339</td>\n",
       "      <td>318515.0</td>\n",
       "      <td>152.0</td>\n",
       "      <td>479678.532895</td>\n",
       "      <td>3.510234e+09</td>\n",
       "      <td>...</td>\n",
       "      <td>7.306705e+07</td>\n",
       "      <td>5702.0</td>\n",
       "      <td>5506.0</td>\n",
       "      <td>1.439252e+05</td>\n",
       "      <td>1.835924e+05</td>\n",
       "      <td>36.823785</td>\n",
       "      <td>46.972788</td>\n",
       "      <td>2.087818</td>\n",
       "      <td>2.663241</td>\n",
       "      <td>0.127936</td>\n",
       "    </tr>\n",
       "    <tr>\n",
       "      <th>30</th>\n",
       "      <td>2015-09-08</td>\n",
       "      <td>244.174953</td>\n",
       "      <td>0.014717</td>\n",
       "      <td>1.263494</td>\n",
       "      <td>-0.009498</td>\n",
       "      <td>0.024215</td>\n",
       "      <td>338676.0</td>\n",
       "      <td>136.0</td>\n",
       "      <td>703476.838235</td>\n",
       "      <td>3.562724e+09</td>\n",
       "      <td>...</td>\n",
       "      <td>7.309293e+07</td>\n",
       "      <td>5622.0</td>\n",
       "      <td>5570.0</td>\n",
       "      <td>2.232403e+05</td>\n",
       "      <td>2.820627e+05</td>\n",
       "      <td>47.344776</td>\n",
       "      <td>59.819830</td>\n",
       "      <td>2.393153</td>\n",
       "      <td>3.023734</td>\n",
       "      <td>0.127953</td>\n",
       "    </tr>\n",
       "    <tr>\n",
       "      <th>31</th>\n",
       "      <td>2015-09-09</td>\n",
       "      <td>238.722463</td>\n",
       "      <td>-0.022330</td>\n",
       "      <td>1.210000</td>\n",
       "      <td>-0.042338</td>\n",
       "      <td>0.020008</td>\n",
       "      <td>298432.0</td>\n",
       "      <td>149.0</td>\n",
       "      <td>730847.134228</td>\n",
       "      <td>3.484056e+09</td>\n",
       "      <td>...</td>\n",
       "      <td>7.311937e+07</td>\n",
       "      <td>5604.0</td>\n",
       "      <td>5531.0</td>\n",
       "      <td>1.112715e+06</td>\n",
       "      <td>1.346385e+06</td>\n",
       "      <td>207.924885</td>\n",
       "      <td>251.589110</td>\n",
       "      <td>2.018485</td>\n",
       "      <td>2.442367</td>\n",
       "      <td>0.128217</td>\n",
       "    </tr>\n",
       "    <tr>\n",
       "      <th>32</th>\n",
       "      <td>2015-09-10</td>\n",
       "      <td>238.750477</td>\n",
       "      <td>0.000117</td>\n",
       "      <td>1.185700</td>\n",
       "      <td>-0.020083</td>\n",
       "      <td>0.020200</td>\n",
       "      <td>283028.0</td>\n",
       "      <td>171.0</td>\n",
       "      <td>682503.847953</td>\n",
       "      <td>3.485486e+09</td>\n",
       "      <td>...</td>\n",
       "      <td>7.314581e+07</td>\n",
       "      <td>5341.0</td>\n",
       "      <td>5243.0</td>\n",
       "      <td>1.385908e+05</td>\n",
       "      <td>1.643271e+05</td>\n",
       "      <td>39.296958</td>\n",
       "      <td>46.594403</td>\n",
       "      <td>2.404459</td>\n",
       "      <td>2.850967</td>\n",
       "      <td>0.123046</td>\n",
       "    </tr>\n",
       "    <tr>\n",
       "      <th>33</th>\n",
       "      <td>2015-09-11</td>\n",
       "      <td>240.845008</td>\n",
       "      <td>0.008773</td>\n",
       "      <td>0.927716</td>\n",
       "      <td>-0.217580</td>\n",
       "      <td>0.226353</td>\n",
       "      <td>317585.0</td>\n",
       "      <td>158.0</td>\n",
       "      <td>713392.594937</td>\n",
       "      <td>3.517014e+09</td>\n",
       "      <td>...</td>\n",
       "      <td>7.317305e+07</td>\n",
       "      <td>6460.0</td>\n",
       "      <td>6319.0</td>\n",
       "      <td>5.759335e+05</td>\n",
       "      <td>5.343026e+05</td>\n",
       "      <td>115.064924</td>\n",
       "      <td>106.747538</td>\n",
       "      <td>2.078264</td>\n",
       "      <td>1.928038</td>\n",
       "      <td>0.121418</td>\n",
       "    </tr>\n",
       "  </tbody>\n",
       "</table>\n",
       "<p>5 rows × 62 columns</p>\n",
       "</div>"
      ],
      "text/plain": [
       "          date     BTC_USD   BTC_Ret   ETH_USD   ETH_Ret  BTC_ETH_Ret  \\\n",
       "29  2015-09-07  240.633616 -0.000714  1.275610 -0.048052     0.047339   \n",
       "30  2015-09-08  244.174953  0.014717  1.263494 -0.009498     0.024215   \n",
       "31  2015-09-09  238.722463 -0.022330  1.210000 -0.042338     0.020008   \n",
       "32  2015-09-10  238.750477  0.000117  1.185700 -0.020083     0.020200   \n",
       "33  2015-09-11  240.845008  0.008773  0.927716 -0.217580     0.226353   \n",
       "\n",
       "      BTC_F1  BTC_F2         BTC_F4        BTC_F5  ...       ETH_F20  ETH_F21  \\\n",
       "29  318515.0   152.0  479678.532895  3.510234e+09  ...  7.306705e+07   5702.0   \n",
       "30  338676.0   136.0  703476.838235  3.562724e+09  ...  7.309293e+07   5622.0   \n",
       "31  298432.0   149.0  730847.134228  3.484056e+09  ...  7.311937e+07   5604.0   \n",
       "32  283028.0   171.0  682503.847953  3.485486e+09  ...  7.314581e+07   5341.0   \n",
       "33  317585.0   158.0  713392.594937  3.517014e+09  ...  7.317305e+07   6460.0   \n",
       "\n",
       "    ETH_F22       ETH_F23       ETH_F24     ETH_F25     ETH_F26   ETH_F27  \\\n",
       "29   5506.0  1.439252e+05  1.835924e+05   36.823785   46.972788  2.087818   \n",
       "30   5570.0  2.232403e+05  2.820627e+05   47.344776   59.819830  2.393153   \n",
       "31   5531.0  1.112715e+06  1.346385e+06  207.924885  251.589110  2.018485   \n",
       "32   5243.0  1.385908e+05  1.643271e+05   39.296958   46.594403  2.404459   \n",
       "33   6319.0  5.759335e+05  5.343026e+05  115.064924  106.747538  2.078264   \n",
       "\n",
       "     ETH_F28   ETH_F31  \n",
       "29  2.663241  0.127936  \n",
       "30  3.023734  0.127953  \n",
       "31  2.442367  0.128217  \n",
       "32  2.850967  0.123046  \n",
       "33  1.928038  0.121418  \n",
       "\n",
       "[5 rows x 62 columns]"
      ]
     },
     "execution_count": 337,
     "metadata": {},
     "output_type": "execute_result"
    }
   ],
   "source": [
    "btc_eth_model=pd.merge(btc_eth_price_clean,btc_eth_factor_clean_full_df, on='date', how='outer')\n",
    "btc_eth_model_keep=btc_eth_model.dropna()\n",
    "btc_eth_model=btc_eth_model_keep\n",
    "btc_eth_model.head()"
   ]
  },
  {
   "cell_type": "code",
   "execution_count": 339,
   "metadata": {},
   "outputs": [],
   "source": [
    "btc_eth_model.to_csv('btc_eth_model.csv',index=False)\n",
    "btc_eth_model.to_excel('btc_eth_model.xlsx',index=False)\n",
    "btc_eth_model_m.to_csv('btc_eth_model_m.csv',index=False)\n",
    "btc_eth_model_m.to_excel('btc_eth_model_m.xlsx',index=False)"
   ]
  },
  {
   "cell_type": "markdown",
   "metadata": {},
   "source": [
    "## Lag the factors"
   ]
  },
  {
   "cell_type": "code",
   "execution_count": 340,
   "metadata": {},
   "outputs": [],
   "source": [
    "def factor_lag(df_in,first_col,last_col):\n",
    "    df_out=df_in.iloc[:,0:first_col]\n",
    "    j=first_col\n",
    "    for j in range(first_col,last_col):\n",
    "        col_name_old=df_in.columns[j]\n",
    "        col_name_new='L_'+col_name_old\n",
    "        df_out[col_name_new]=df_in.iloc[:,j].shift(1)\n",
    "        j=j+1\n",
    "    return df_out"
   ]
  },
  {
   "cell_type": "code",
   "execution_count": 343,
   "metadata": {},
   "outputs": [],
   "source": [
    "def relative_factors_m(df_in,first_col,curr1,curr2):\n",
    "    df_out=df_in.iloc[:,0:first_col]\n",
    "    for j in range(1,32):\n",
    "        curr1_col=curr1 + '_F' + str(j) + '_MA22'\n",
    "        curr2_col=curr2 + '_F' + str(j) + '_MA22'    \n",
    "        new_col=curr1 + '_' + curr2 + '_F' + str(j) + '_ratio'\n",
    "        try:\n",
    "            df_out[new_col]=df_in[curr1_col]/df_in[curr2_col]\n",
    "        except:\n",
    "            continue\n",
    "    return df_out"
   ]
  },
  {
   "cell_type": "code",
   "execution_count": 355,
   "metadata": {},
   "outputs": [],
   "source": [
    "def relative_factors_m_l(df_in,first_col,curr1,curr2):\n",
    "    df_out=df_in.iloc[:,0:first_col]\n",
    "    for j in range(1,32):\n",
    "        curr1_col='L_' + curr1 + '_F' + str(j) + '_MA22'\n",
    "        curr2_col='L_' + curr2 + '_F' + str(j) + '_MA22'    \n",
    "        new_col='L_' + curr1 + '_' + curr2 + '_F' + str(j) + '_ratio'\n",
    "        try:\n",
    "            df_out[new_col]=df_in[curr1_col]/df_in[curr2_col]\n",
    "        except:\n",
    "            continue\n",
    "    return df_out"
   ]
  },
  {
   "cell_type": "code",
   "execution_count": 356,
   "metadata": {},
   "outputs": [],
   "source": [
    "def relative_factors_l(df_in,first_col,curr1,curr2):\n",
    "    df_out=df_in.iloc[:,0:first_col]\n",
    "    for j in range(1,32):\n",
    "        curr1_col='L_' + curr1 + '_F' + str(j)\n",
    "        curr2_col='L_' + curr2 + '_F' + str(j)   \n",
    "        new_col='L_' + curr1 + '_' + curr2 + '_F' + str(j) + '_ratio'\n",
    "        try:\n",
    "            df_out[new_col]=df_in[curr1_col]/df_in[curr2_col]\n",
    "        except:\n",
    "            continue\n",
    "    return df_out"
   ]
  },
  {
   "cell_type": "code",
   "execution_count": 346,
   "metadata": {},
   "outputs": [],
   "source": [
    "def relative_factors(df_in,first_col,curr1,curr2):\n",
    "    df_out=df_in.iloc[:,0:first_col]\n",
    "    for j in range(1,32):\n",
    "        curr1_col=curr1 + '_F' + str(j)\n",
    "        curr2_col=curr2 + '_F' + str(j)   \n",
    "        new_col=curr1 + '_' + curr2 + '_F' + str(j) + '_ratio'\n",
    "        try:\n",
    "            df_out[new_col]=df_in[curr1_col]/df_in[curr2_col]\n",
    "        except:\n",
    "            continue\n",
    "    return df_out"
   ]
  },
  {
   "cell_type": "code",
   "execution_count": 347,
   "metadata": {},
   "outputs": [],
   "source": [
    "btc_eth_model=pd.read_excel('btc_eth_model.xlsx')\n",
    "btc_eth_model_m=pd.read_excel('btc_eth_model_m.xlsx')"
   ]
  },
  {
   "cell_type": "code",
   "execution_count": 348,
   "metadata": {},
   "outputs": [],
   "source": [
    "btc_eth_model_lags=factor_lag(btc_eth_model,6,61)\n",
    "btc_eth_model_lags_m=factor_lag(btc_eth_model_m,6,61)\n",
    "\n",
    "btc_eth_model_lags_keep=btc_eth_model_lags.dropna()\n",
    "btc_eth_model_lags_keep_m=btc_eth_model_lags_m.dropna()\n",
    "\n",
    "btc_eth_model_lags=btc_eth_model_lags_keep\n",
    "btc_eth_model_lags_m=btc_eth_model_lags_keep_m\n",
    "\n",
    "btc_eth_price_clean=btc_eth_model_lags[['date','BTC_USD','BTC_Ret','ETH_USD','ETH_Ret','BTC_ETH_Ret']].copy()\n",
    "btc_eth_price_clean_m=btc_eth_model_lags_m[['date','BTC_USD','BTC_Ret','ETH_USD','ETH_Ret','BTC_ETH_Ret']].copy()\n",
    "\n",
    "btc_eth_model_lags.to_csv('btc_eth_model_lags.csv',index=False)\n",
    "btc_eth_model_lags_m.to_csv('btc_eth_model_lags_m.csv',index=False)"
   ]
  },
  {
   "cell_type": "code",
   "execution_count": 360,
   "metadata": {},
   "outputs": [],
   "source": [
    "#btc_eth_model_lags.head()"
   ]
  },
  {
   "cell_type": "code",
   "execution_count": 357,
   "metadata": {},
   "outputs": [],
   "source": [
    "btc_eth_factor_ratios=relative_factors(btc_eth_model,6,'BTC','ETH')\n",
    "btc_eth_factor_ratios_lags=relative_factors_l(btc_eth_model_lags,6,'BTC','ETH')\n",
    "btc_eth_factor_ratios_m=relative_factors_m(btc_eth_model_m,6,'BTC','ETH')\n",
    "btc_eth_factor_ratios_lags_m=relative_factors_m_l(btc_eth_model_lags_m,6,'BTC','ETH')"
   ]
  },
  {
   "cell_type": "code",
   "execution_count": 361,
   "metadata": {},
   "outputs": [],
   "source": [
    "#btc_eth_factor_ratios_lags_m.head()"
   ]
  },
  {
   "cell_type": "markdown",
   "metadata": {},
   "source": [
    "## Subset the data"
   ]
  },
  {
   "cell_type": "code",
   "execution_count": 295,
   "metadata": {},
   "outputs": [],
   "source": [
    "def subset_dates(df_in):\n",
    "    start=datetime.strptime('2020-12-31',\"%Y-%m-%d\")\n",
    "    end=datetime.strptime('2022-06-30',\"%Y-%m-%d\")\n",
    "    df_in['date'] = df_in['date'].apply(lambda x: datetime.strptime(x, \"%Y-%m-%d\"))\n",
    "    df_out=df_in.loc[(df_in['date'] > start) & (df_in['date']  <= end)]\n",
    "    df_out['date'] = df_out['date'].apply(lambda x: datetime.strftime(x, \"%Y-%m-%d\"))\n",
    "    return df_out\n",
    "\n",
    "\n",
    "#start=datetime.strptime('2020-12-31',\"%Y-%m-%d\")\n",
    "#end=datetime.strptime('2022-06-30',\"%Y-%m-%d\")\n",
    "#btc_eth_factor_clean_full_df['date'] = btc_eth_factor_clean_full_df['date'].apply(lambda x: datetime.strptime(x, \"%Y-%m-%d\"))\n",
    "#btc_eth_factor_clean_df=btc_eth_factor_clean_full_df.loc[(btc_eth_factor_clean_full_df['date'] > start) & (btc_eth_factor_clean_full_df['date']  <= end)]\n",
    "#btc_eth_factor_clean_df['date'] = btc_eth_factor_clean_df['date'].apply(lambda x: datetime.strftime(x, \"%Y-%m-%d\"))"
   ]
  },
  {
   "cell_type": "code",
   "execution_count": 362,
   "metadata": {},
   "outputs": [
    {
     "name": "stderr",
     "output_type": "stream",
     "text": [
      "C:\\Users\\19084\\Anaconda3\\lib\\site-packages\\ipykernel_launcher.py:6: SettingWithCopyWarning: \n",
      "A value is trying to be set on a copy of a slice from a DataFrame.\n",
      "Try using .loc[row_indexer,col_indexer] = value instead\n",
      "\n",
      "See the caveats in the documentation: https://pandas.pydata.org/pandas-docs/stable/user_guide/indexing.html#returning-a-view-versus-a-copy\n",
      "  \n"
     ]
    }
   ],
   "source": [
    "btc_eth_model = subset_dates(btc_eth_model)\n",
    "btc_eth_model_lags = subset_dates(btc_eth_model_lags)\n",
    "btc_eth_model_m = subset_dates(btc_eth_model_m)\n",
    "btc_eth_model_lags_m = subset_dates(btc_eth_model_lags_m)\n",
    "btc_eth_factor_ratios = subset_dates(btc_eth_factor_ratios)\n",
    "btc_eth_factor_ratios_lags = subset_dates(btc_eth_factor_ratios_lags)\n",
    "btc_eth_factor_ratios_m = subset_dates(btc_eth_factor_ratios_m)\n",
    "btc_eth_factor_ratios_lags_m = subset_dates(btc_eth_factor_ratios_lags_m)"
   ]
  },
  {
   "cell_type": "code",
   "execution_count": 389,
   "metadata": {},
   "outputs": [
    {
     "data": {
      "text/html": [
       "<div>\n",
       "<style scoped>\n",
       "    .dataframe tbody tr th:only-of-type {\n",
       "        vertical-align: middle;\n",
       "    }\n",
       "\n",
       "    .dataframe tbody tr th {\n",
       "        vertical-align: top;\n",
       "    }\n",
       "\n",
       "    .dataframe thead th {\n",
       "        text-align: right;\n",
       "    }\n",
       "</style>\n",
       "<table border=\"1\" class=\"dataframe\">\n",
       "  <thead>\n",
       "    <tr style=\"text-align: right;\">\n",
       "      <th></th>\n",
       "      <th>date</th>\n",
       "      <th>BTC_USD</th>\n",
       "      <th>BTC_Ret</th>\n",
       "      <th>ETH_USD</th>\n",
       "      <th>ETH_Ret</th>\n",
       "      <th>BTC_ETH_Ret</th>\n",
       "      <th>L_BTC_ETH_F1_ratio</th>\n",
       "      <th>L_BTC_ETH_F2_ratio</th>\n",
       "      <th>L_BTC_ETH_F4_ratio</th>\n",
       "      <th>L_BTC_ETH_F5_ratio</th>\n",
       "      <th>...</th>\n",
       "      <th>L_BTC_ETH_F19_ratio</th>\n",
       "      <th>L_BTC_ETH_F20_ratio</th>\n",
       "      <th>L_BTC_ETH_F21_ratio</th>\n",
       "      <th>L_BTC_ETH_F22_ratio</th>\n",
       "      <th>L_BTC_ETH_F23_ratio</th>\n",
       "      <th>L_BTC_ETH_F24_ratio</th>\n",
       "      <th>L_BTC_ETH_F25_ratio</th>\n",
       "      <th>L_BTC_ETH_F26_ratio</th>\n",
       "      <th>L_BTC_ETH_F27_ratio</th>\n",
       "      <th>L_BTC_ETH_F28_ratio</th>\n",
       "    </tr>\n",
       "  </thead>\n",
       "  <tbody>\n",
       "    <tr>\n",
       "      <th>64</th>\n",
       "      <td>2021-01-31</td>\n",
       "      <td>33157.832575</td>\n",
       "      <td>0.142480</td>\n",
       "      <td>1317.346364</td>\n",
       "      <td>0.782544</td>\n",
       "      <td>-0.640064</td>\n",
       "      <td>2.068242</td>\n",
       "      <td>0.022469</td>\n",
       "      <td>30.096577</td>\n",
       "      <td>5.944207</td>\n",
       "      <td>...</td>\n",
       "      <td>2.456407</td>\n",
       "      <td>0.163066</td>\n",
       "      <td>0.264346</td>\n",
       "      <td>1.302546</td>\n",
       "      <td>0.066970</td>\n",
       "      <td>2.442373</td>\n",
       "      <td>0.072026</td>\n",
       "      <td>2.618556</td>\n",
       "      <td>0.041512</td>\n",
       "      <td>1.489666</td>\n",
       "    </tr>\n",
       "    <tr>\n",
       "      <th>65</th>\n",
       "      <td>2021-02-28</td>\n",
       "      <td>45359.464164</td>\n",
       "      <td>0.367986</td>\n",
       "      <td>1425.385867</td>\n",
       "      <td>0.082013</td>\n",
       "      <td>0.285973</td>\n",
       "      <td>1.982927</td>\n",
       "      <td>0.022442</td>\n",
       "      <td>29.923052</td>\n",
       "      <td>4.460394</td>\n",
       "      <td>...</td>\n",
       "      <td>3.959324</td>\n",
       "      <td>0.162724</td>\n",
       "      <td>0.264067</td>\n",
       "      <td>1.286426</td>\n",
       "      <td>0.042349</td>\n",
       "      <td>1.168089</td>\n",
       "      <td>0.049493</td>\n",
       "      <td>1.369392</td>\n",
       "      <td>0.029048</td>\n",
       "      <td>0.796929</td>\n",
       "    </tr>\n",
       "    <tr>\n",
       "      <th>66</th>\n",
       "      <td>2021-03-31</td>\n",
       "      <td>58792.194828</td>\n",
       "      <td>0.296140</td>\n",
       "      <td>1916.880019</td>\n",
       "      <td>0.344815</td>\n",
       "      <td>-0.048675</td>\n",
       "      <td>1.895890</td>\n",
       "      <td>0.022157</td>\n",
       "      <td>29.192240</td>\n",
       "      <td>4.590068</td>\n",
       "      <td>...</td>\n",
       "      <td>3.684748</td>\n",
       "      <td>0.162410</td>\n",
       "      <td>0.248829</td>\n",
       "      <td>1.206553</td>\n",
       "      <td>0.044601</td>\n",
       "      <td>1.277804</td>\n",
       "      <td>0.059338</td>\n",
       "      <td>1.703799</td>\n",
       "      <td>0.020951</td>\n",
       "      <td>0.589821</td>\n",
       "    </tr>\n",
       "    <tr>\n",
       "      <th>67</th>\n",
       "      <td>2021-04-30</td>\n",
       "      <td>57741.444417</td>\n",
       "      <td>-0.017872</td>\n",
       "      <td>2770.290058</td>\n",
       "      <td>0.445208</td>\n",
       "      <td>-0.463080</td>\n",
       "      <td>1.943857</td>\n",
       "      <td>0.023103</td>\n",
       "      <td>28.846836</td>\n",
       "      <td>5.193959</td>\n",
       "      <td>...</td>\n",
       "      <td>2.875711</td>\n",
       "      <td>0.162063</td>\n",
       "      <td>0.234563</td>\n",
       "      <td>1.121717</td>\n",
       "      <td>0.056496</td>\n",
       "      <td>1.804637</td>\n",
       "      <td>0.086109</td>\n",
       "      <td>2.749334</td>\n",
       "      <td>0.020223</td>\n",
       "      <td>0.646945</td>\n",
       "    </tr>\n",
       "    <tr>\n",
       "      <th>68</th>\n",
       "      <td>2021-05-31</td>\n",
       "      <td>37312.974897</td>\n",
       "      <td>-0.353792</td>\n",
       "      <td>2699.214458</td>\n",
       "      <td>-0.025656</td>\n",
       "      <td>-0.328136</td>\n",
       "      <td>1.491869</td>\n",
       "      <td>0.020469</td>\n",
       "      <td>26.784431</td>\n",
       "      <td>3.856577</td>\n",
       "      <td>...</td>\n",
       "      <td>2.568413</td>\n",
       "      <td>0.161727</td>\n",
       "      <td>0.191764</td>\n",
       "      <td>0.938528</td>\n",
       "      <td>0.062404</td>\n",
       "      <td>1.466633</td>\n",
       "      <td>0.127870</td>\n",
       "      <td>2.973595</td>\n",
       "      <td>0.033666</td>\n",
       "      <td>0.800045</td>\n",
       "    </tr>\n",
       "  </tbody>\n",
       "</table>\n",
       "<p>5 rows × 33 columns</p>\n",
       "</div>"
      ],
      "text/plain": [
       "          date       BTC_USD   BTC_Ret      ETH_USD   ETH_Ret  BTC_ETH_Ret  \\\n",
       "64  2021-01-31  33157.832575  0.142480  1317.346364  0.782544    -0.640064   \n",
       "65  2021-02-28  45359.464164  0.367986  1425.385867  0.082013     0.285973   \n",
       "66  2021-03-31  58792.194828  0.296140  1916.880019  0.344815    -0.048675   \n",
       "67  2021-04-30  57741.444417 -0.017872  2770.290058  0.445208    -0.463080   \n",
       "68  2021-05-31  37312.974897 -0.353792  2699.214458 -0.025656    -0.328136   \n",
       "\n",
       "    L_BTC_ETH_F1_ratio  L_BTC_ETH_F2_ratio  L_BTC_ETH_F4_ratio  \\\n",
       "64            2.068242            0.022469           30.096577   \n",
       "65            1.982927            0.022442           29.923052   \n",
       "66            1.895890            0.022157           29.192240   \n",
       "67            1.943857            0.023103           28.846836   \n",
       "68            1.491869            0.020469           26.784431   \n",
       "\n",
       "    L_BTC_ETH_F5_ratio  ...  L_BTC_ETH_F19_ratio  L_BTC_ETH_F20_ratio  \\\n",
       "64            5.944207  ...             2.456407             0.163066   \n",
       "65            4.460394  ...             3.959324             0.162724   \n",
       "66            4.590068  ...             3.684748             0.162410   \n",
       "67            5.193959  ...             2.875711             0.162063   \n",
       "68            3.856577  ...             2.568413             0.161727   \n",
       "\n",
       "    L_BTC_ETH_F21_ratio  L_BTC_ETH_F22_ratio  L_BTC_ETH_F23_ratio  \\\n",
       "64             0.264346             1.302546             0.066970   \n",
       "65             0.264067             1.286426             0.042349   \n",
       "66             0.248829             1.206553             0.044601   \n",
       "67             0.234563             1.121717             0.056496   \n",
       "68             0.191764             0.938528             0.062404   \n",
       "\n",
       "    L_BTC_ETH_F24_ratio  L_BTC_ETH_F25_ratio  L_BTC_ETH_F26_ratio  \\\n",
       "64             2.442373             0.072026             2.618556   \n",
       "65             1.168089             0.049493             1.369392   \n",
       "66             1.277804             0.059338             1.703799   \n",
       "67             1.804637             0.086109             2.749334   \n",
       "68             1.466633             0.127870             2.973595   \n",
       "\n",
       "    L_BTC_ETH_F27_ratio  L_BTC_ETH_F28_ratio  \n",
       "64             0.041512             1.489666  \n",
       "65             0.029048             0.796929  \n",
       "66             0.020951             0.589821  \n",
       "67             0.020223             0.646945  \n",
       "68             0.033666             0.800045  \n",
       "\n",
       "[5 rows x 33 columns]"
      ]
     },
     "execution_count": 389,
     "metadata": {},
     "output_type": "execute_result"
    }
   ],
   "source": [
    "btc_eth_factor_ratios_lags_m.head()"
   ]
  },
  {
   "cell_type": "markdown",
   "metadata": {},
   "source": [
    "# Daily Models"
   ]
  },
  {
   "cell_type": "markdown",
   "metadata": {},
   "source": [
    "### Non-Lagged Non-Ratio Models"
   ]
  },
  {
   "cell_type": "code",
   "execution_count": 364,
   "metadata": {},
   "outputs": [
    {
     "name": "stdout",
     "output_type": "stream",
     "text": [
      "BTC_Ret ~ BTC_F1 + BTC_F2 + BTC_F4 + BTC_F6 + BTC_F13 + BTC_F14 + BTC_F20 + BTC_F21\n",
      "ETH_Ret ~ ETH_F1 + ETH_F2 + ETH_F4 + ETH_F6 + ETH_F13 + ETH_F14 + ETH_F20 + ETH_F21 + ETH_F22\n"
     ]
    }
   ],
   "source": [
    "lm_string_BTC='BTC_Ret ~ BTC_F1 + BTC_F2 + BTC_F4 + BTC_F6 + BTC_F13 + BTC_F14 + BTC_F20 + BTC_F21'\n",
    "lm_string_ETH='ETH_Ret ~ ETH_F1 + ETH_F2 + ETH_F4 + ETH_F6 + ETH_F13 + ETH_F14 + ETH_F20 + ETH_F21 + ETH_F22'\n",
    "print(lm_string_BTC)\n",
    "print(lm_string_ETH)"
   ]
  },
  {
   "cell_type": "code",
   "execution_count": 365,
   "metadata": {},
   "outputs": [
    {
     "name": "stdout",
     "output_type": "stream",
     "text": [
      "                            OLS Regression Results                            \n",
      "==============================================================================\n",
      "Dep. Variable:                BTC_Ret   R-squared:                       0.025\n",
      "Model:                            OLS   Adj. R-squared:                  0.014\n",
      "Method:                 Least Squares   F-statistic:                     2.325\n",
      "Date:                Fri, 30 Sep 2022   Prob (F-statistic):             0.0317\n",
      "Time:                        14:27:56   Log-Likelihood:                 990.74\n",
      "No. Observations:                 546   AIC:                            -1967.\n",
      "Df Residuals:                     539   BIC:                            -1937.\n",
      "Df Model:                           6                                         \n",
      "Covariance Type:            nonrobust                                         \n",
      "==============================================================================\n",
      "                 coef    std err          t      P>|t|      [0.025      0.975]\n",
      "------------------------------------------------------------------------------\n",
      "Intercept  -3.455e-10   2.01e-09     -0.172      0.863   -4.29e-09     3.6e-09\n",
      "BTC_F1     -4.237e-08   4.29e-08     -0.989      0.323   -1.27e-07    4.18e-08\n",
      "BTC_F2      2.522e-06   1.47e-05      0.172      0.863   -2.63e-05    3.13e-05\n",
      "BTC_F4     -7.976e-09   2.61e-08     -0.306      0.760   -5.93e-08    4.33e-08\n",
      "BTC_F6     -4.992e-16   3.64e-15     -0.137      0.891   -7.64e-15    6.64e-15\n",
      "BTC_F13    -6.284e-11   4.85e-10     -0.130      0.897   -1.02e-09     8.9e-10\n",
      "BTC_F14     1.576e-05   9.16e-05      0.172      0.863      -0.000       0.000\n",
      "BTC_F20     3.739e-10   4.73e-09      0.079      0.937   -8.91e-09    9.66e-09\n",
      "BTC_F21     1.927e-07   9.48e-08      2.034      0.042    6.56e-09    3.79e-07\n",
      "==============================================================================\n",
      "Omnibus:                       28.137   Durbin-Watson:                   2.092\n",
      "Prob(Omnibus):                  0.000   Jarque-Bera (JB):               82.979\n",
      "Skew:                           0.105   Prob(JB):                     9.58e-19\n",
      "Kurtosis:                       4.898   Cond. No.                     1.97e+25\n",
      "==============================================================================\n",
      "\n",
      "Notes:\n",
      "[1] Standard Errors assume that the covariance matrix of the errors is correctly specified.\n",
      "[2] The smallest eigenvalue is 7.7e-22. This might indicate that there are\n",
      "strong multicollinearity problems or that the design matrix is singular.\n"
     ]
    }
   ],
   "source": [
    "model_BTC=smf.ols(lm_string_BTC, data = btc_eth_model).fit().summary()\n",
    "print(model_BTC)"
   ]
  },
  {
   "cell_type": "code",
   "execution_count": 366,
   "metadata": {},
   "outputs": [
    {
     "name": "stdout",
     "output_type": "stream",
     "text": [
      "                            OLS Regression Results                            \n",
      "==============================================================================\n",
      "Dep. Variable:                ETH_Ret   R-squared:                       0.043\n",
      "Model:                            OLS   Adj. R-squared:                  0.033\n",
      "Method:                 Least Squares   F-statistic:                     4.052\n",
      "Date:                Fri, 30 Sep 2022   Prob (F-statistic):           0.000552\n",
      "Time:                        14:27:56   Log-Likelihood:                 848.95\n",
      "No. Observations:                 546   AIC:                            -1684.\n",
      "Df Residuals:                     539   BIC:                            -1654.\n",
      "Df Model:                           6                                         \n",
      "Covariance Type:            nonrobust                                         \n",
      "==============================================================================\n",
      "                 coef    std err          t      P>|t|      [0.025      0.975]\n",
      "------------------------------------------------------------------------------\n",
      "Intercept  -1.343e-09   4.37e-09     -0.307      0.759   -9.93e-09    7.24e-09\n",
      "ETH_F1     -2.732e-09   5.53e-08     -0.049      0.961   -1.11e-07    1.06e-07\n",
      "ETH_F2     -3.407e-05      0.000     -0.321      0.748      -0.000       0.000\n",
      "ETH_F4     -4.394e-07   3.35e-07     -1.310      0.191    -1.1e-06     2.2e-07\n",
      "ETH_F6     -4.612e-18   2.11e-18     -2.187      0.029   -8.75e-18    -4.7e-19\n",
      "ETH_F13    -8.449e-07    1.9e-06     -0.444      0.657   -4.58e-06    2.89e-06\n",
      "ETH_F14     1.056e-05   4.91e-05      0.215      0.830    -8.6e-05       0.000\n",
      "ETH_F20     1.247e-09   8.81e-10      1.415      0.158   -4.84e-10    2.98e-09\n",
      "ETH_F21     -9.83e-08   3.92e-08     -2.507      0.012   -1.75e-07   -2.13e-08\n",
      "ETH_F22     1.433e-07   4.37e-08      3.282      0.001    5.75e-08    2.29e-07\n",
      "==============================================================================\n",
      "Omnibus:                       48.633   Durbin-Watson:                   2.069\n",
      "Prob(Omnibus):                  0.000   Jarque-Bera (JB):              233.690\n",
      "Skew:                           0.162   Prob(JB):                     1.80e-51\n",
      "Kurtosis:                       6.189   Cond. No.                     6.08e+18\n",
      "==============================================================================\n",
      "\n",
      "Notes:\n",
      "[1] Standard Errors assume that the covariance matrix of the errors is correctly specified.\n",
      "[2] The condition number is large, 6.08e+18. This might indicate that there are\n",
      "strong multicollinearity or other numerical problems.\n"
     ]
    }
   ],
   "source": [
    "model_ETH=smf.ols(lm_string_ETH, data = btc_eth_model).fit().summary()\n",
    "print(model_ETH)"
   ]
  },
  {
   "cell_type": "markdown",
   "metadata": {},
   "source": [
    "### Lagged Non-Ratio Models"
   ]
  },
  {
   "cell_type": "code",
   "execution_count": 367,
   "metadata": {},
   "outputs": [
    {
     "name": "stdout",
     "output_type": "stream",
     "text": [
      "BTC_Ret ~ L_BTC_F1 + L_BTC_F2 + L_BTC_F4 + L_BTC_F6 + L_BTC_F13 + L_BTC_F14 + L_BTC_F20 + L_BTC_F21\n",
      "ETH_Ret ~ L_ETH_F1 + L_ETH_F2 + L_ETH_F4 + L_ETH_F6 + L_ETH_F13 + L_ETH_F14 + L_ETH_F20 + L_ETH_F21 + L_ETH_F22\n"
     ]
    }
   ],
   "source": [
    "lm_string_BTC='BTC_Ret ~ L_BTC_F1 + L_BTC_F2 + L_BTC_F4 + L_BTC_F6 + L_BTC_F13 + L_BTC_F14 + L_BTC_F20 + L_BTC_F21'\n",
    "lm_string_ETH='ETH_Ret ~ L_ETH_F1 + L_ETH_F2 + L_ETH_F4 + L_ETH_F6 + L_ETH_F13 + L_ETH_F14 + L_ETH_F20 + L_ETH_F21 + L_ETH_F22'\n",
    "print(lm_string_BTC)\n",
    "print(lm_string_ETH)"
   ]
  },
  {
   "cell_type": "code",
   "execution_count": 368,
   "metadata": {},
   "outputs": [
    {
     "name": "stdout",
     "output_type": "stream",
     "text": [
      "                            OLS Regression Results                            \n",
      "==============================================================================\n",
      "Dep. Variable:                BTC_Ret   R-squared:                       0.016\n",
      "Model:                            OLS   Adj. R-squared:                  0.005\n",
      "Method:                 Least Squares   F-statistic:                     1.430\n",
      "Date:                Fri, 30 Sep 2022   Prob (F-statistic):              0.201\n",
      "Time:                        14:28:02   Log-Likelihood:                 988.08\n",
      "No. Observations:                 546   AIC:                            -1962.\n",
      "Df Residuals:                     539   BIC:                            -1932.\n",
      "Df Model:                           6                                         \n",
      "Covariance Type:            nonrobust                                         \n",
      "==============================================================================\n",
      "                 coef    std err          t      P>|t|      [0.025      0.975]\n",
      "------------------------------------------------------------------------------\n",
      "Intercept   1.584e-09   1.98e-09      0.801      0.424    -2.3e-09    5.47e-09\n",
      "L_BTC_F1    6.088e-09   4.31e-08      0.141      0.888   -7.85e-08    9.07e-08\n",
      "L_BTC_F2   -1.185e-05   1.48e-05     -0.801      0.424   -4.09e-05    1.72e-05\n",
      "L_BTC_F4    7.349e-10   2.62e-08      0.028      0.978   -5.08e-08    5.23e-08\n",
      "L_BTC_F6   -4.339e-15   3.67e-15     -1.181      0.238   -1.16e-14    2.88e-15\n",
      "L_BTC_F13   4.512e-10   4.91e-10      0.919      0.358   -5.13e-10    1.42e-09\n",
      "L_BTC_F14  -7.405e-05   9.25e-05     -0.801      0.424      -0.000       0.000\n",
      "L_BTC_F20    4.29e-09   4.76e-09      0.900      0.368   -5.07e-09    1.36e-08\n",
      "L_BTC_F21   2.416e-08   9.51e-08      0.254      0.800   -1.63e-07    2.11e-07\n",
      "==============================================================================\n",
      "Omnibus:                       27.117   Durbin-Watson:                   2.066\n",
      "Prob(Omnibus):                  0.000   Jarque-Bera (JB):               78.411\n",
      "Skew:                           0.094   Prob(JB):                     9.40e-18\n",
      "Kurtosis:                       4.847   Cond. No.                     2.62e+26\n",
      "==============================================================================\n",
      "\n",
      "Notes:\n",
      "[1] Standard Errors assume that the covariance matrix of the errors is correctly specified.\n",
      "[2] The smallest eigenvalue is 4.33e-24. This might indicate that there are\n",
      "strong multicollinearity problems or that the design matrix is singular.\n"
     ]
    }
   ],
   "source": [
    "lag_model_BTC=smf.ols(lm_string_BTC, data = btc_eth_model_lags).fit().summary()\n",
    "print(lag_model_BTC)"
   ]
  },
  {
   "cell_type": "code",
   "execution_count": 369,
   "metadata": {},
   "outputs": [
    {
     "name": "stdout",
     "output_type": "stream",
     "text": [
      "                            OLS Regression Results                            \n",
      "==============================================================================\n",
      "Dep. Variable:                ETH_Ret   R-squared:                       0.031\n",
      "Model:                            OLS   Adj. R-squared:                  0.021\n",
      "Method:                 Least Squares   F-statistic:                     2.913\n",
      "Date:                Fri, 30 Sep 2022   Prob (F-statistic):            0.00837\n",
      "Time:                        14:28:07   Log-Likelihood:                 845.61\n",
      "No. Observations:                 546   AIC:                            -1677.\n",
      "Df Residuals:                     539   BIC:                            -1647.\n",
      "Df Model:                           6                                         \n",
      "Covariance Type:            nonrobust                                         \n",
      "==============================================================================\n",
      "                 coef    std err          t      P>|t|      [0.025      0.975]\n",
      "------------------------------------------------------------------------------\n",
      "Intercept  -4.288e-09   4.41e-09     -0.973      0.331   -1.29e-08    4.37e-09\n",
      "L_ETH_F1    9.267e-08   5.56e-08      1.666      0.096   -1.66e-08    2.02e-07\n",
      "L_ETH_F2      -0.0001      0.000     -0.950      0.342      -0.000       0.000\n",
      "L_ETH_F4    5.407e-07   3.37e-07      1.602      0.110   -1.22e-07     1.2e-06\n",
      "L_ETH_F6   -3.944e-18   2.12e-18     -1.859      0.064   -8.11e-18    2.25e-19\n",
      "L_ETH_F13  -1.391e-06   1.93e-06     -0.722      0.471   -5.17e-06    2.39e-06\n",
      "L_ETH_F14   5.521e-05   4.94e-05      1.116      0.265   -4.19e-05       0.000\n",
      "L_ETH_F20  -5.754e-10   8.95e-10     -0.643      0.520   -2.33e-09    1.18e-09\n",
      "L_ETH_F21  -1.403e-08   3.94e-08     -0.356      0.722   -9.15e-08    6.34e-08\n",
      "L_ETH_F22  -6.382e-08   4.39e-08     -1.454      0.146    -1.5e-07    2.24e-08\n",
      "==============================================================================\n",
      "Omnibus:                       44.069   Durbin-Watson:                   2.072\n",
      "Prob(Omnibus):                  0.000   Jarque-Bera (JB):              204.367\n",
      "Skew:                          -0.076   Prob(JB):                     4.19e-45\n",
      "Kurtosis:                       5.993   Cond. No.                     6.06e+18\n",
      "==============================================================================\n",
      "\n",
      "Notes:\n",
      "[1] Standard Errors assume that the covariance matrix of the errors is correctly specified.\n",
      "[2] The condition number is large, 6.06e+18. This might indicate that there are\n",
      "strong multicollinearity or other numerical problems.\n"
     ]
    }
   ],
   "source": [
    "lag_model_ETH=smf.ols(lm_string_ETH, data = btc_eth_model_lags).fit().summary()\n",
    "print(lag_model_ETH)"
   ]
  },
  {
   "cell_type": "markdown",
   "metadata": {},
   "source": [
    "## Daily Ratio Models"
   ]
  },
  {
   "cell_type": "markdown",
   "metadata": {},
   "source": [
    "### Ratio Non-Lagged Model"
   ]
  },
  {
   "cell_type": "code",
   "execution_count": 371,
   "metadata": {},
   "outputs": [
    {
     "name": "stdout",
     "output_type": "stream",
     "text": [
      "BTC_Ret ~ BTC_ETH_F1_ratio + BTC_ETH_F2_ratio + BTC_ETH_F4_ratio + BTC_ETH_F6_ratio + BTC_ETH_F13_ratio + BTC_ETH_F14_ratio + BTC_ETH_F20_ratio + BTC_ETH_F21_ratio\n"
     ]
    }
   ],
   "source": [
    "lm_string_BTC_ETH_Ratio='BTC_Ret ~ BTC_ETH_F1_ratio + BTC_ETH_F2_ratio + BTC_ETH_F4_ratio + BTC_ETH_F6_ratio + BTC_ETH_F13_ratio + BTC_ETH_F14_ratio + BTC_ETH_F20_ratio + BTC_ETH_F21_ratio'\n",
    "print(lm_string_BTC_ETH_Ratio)"
   ]
  },
  {
   "cell_type": "code",
   "execution_count": 372,
   "metadata": {},
   "outputs": [
    {
     "name": "stdout",
     "output_type": "stream",
     "text": [
      "                            OLS Regression Results                            \n",
      "==============================================================================\n",
      "Dep. Variable:                BTC_Ret   R-squared:                       0.030\n",
      "Model:                            OLS   Adj. R-squared:                  0.015\n",
      "Method:                 Least Squares   F-statistic:                     2.050\n",
      "Date:                Fri, 30 Sep 2022   Prob (F-statistic):             0.0391\n",
      "Time:                        14:28:23   Log-Likelihood:                 991.98\n",
      "No. Observations:                 546   AIC:                            -1966.\n",
      "Df Residuals:                     537   BIC:                            -1927.\n",
      "Df Model:                           8                                         \n",
      "Covariance Type:            nonrobust                                         \n",
      "=====================================================================================\n",
      "                        coef    std err          t      P>|t|      [0.025      0.975]\n",
      "-------------------------------------------------------------------------------------\n",
      "Intercept             1.3702      1.842      0.744      0.457      -2.249       4.989\n",
      "BTC_ETH_F1_ratio     -0.0450      0.014     -3.130      0.002      -0.073      -0.017\n",
      "BTC_ETH_F2_ratio     -7.7964     19.763     -0.394      0.693     -46.619      31.027\n",
      "BTC_ETH_F4_ratio      0.0005      0.001      0.858      0.392      -0.001       0.002\n",
      "BTC_ETH_F6_ratio    -24.9355     21.798     -1.144      0.253     -67.756      17.885\n",
      "BTC_ETH_F13_ratio  3.352e-07   2.34e-07      1.432      0.153   -1.25e-07    7.95e-07\n",
      "BTC_ETH_F14_ratio     1.7993      6.545      0.275      0.783     -11.058      14.657\n",
      "BTC_ETH_F20_ratio    -8.2900     11.506     -0.720      0.472     -30.893      14.313\n",
      "BTC_ETH_F21_ratio     0.3012      0.118      2.559      0.011       0.070       0.532\n",
      "==============================================================================\n",
      "Omnibus:                       21.813   Durbin-Watson:                   2.102\n",
      "Prob(Omnibus):                  0.000   Jarque-Bera (JB):               55.842\n",
      "Skew:                           0.038   Prob(JB):                     7.48e-13\n",
      "Kurtosis:                       4.565   Cond. No.                     3.66e+09\n",
      "==============================================================================\n",
      "\n",
      "Notes:\n",
      "[1] Standard Errors assume that the covariance matrix of the errors is correctly specified.\n",
      "[2] The condition number is large, 3.66e+09. This might indicate that there are\n",
      "strong multicollinearity or other numerical problems.\n"
     ]
    }
   ],
   "source": [
    "ratio_model=smf.ols(lm_string_BTC_ETH_Ratio, data = btc_eth_factor_ratios).fit().summary()\n",
    "print(ratio_model)"
   ]
  },
  {
   "cell_type": "markdown",
   "metadata": {},
   "source": [
    "### Ratio Lagged Model"
   ]
  },
  {
   "cell_type": "code",
   "execution_count": 373,
   "metadata": {},
   "outputs": [
    {
     "name": "stdout",
     "output_type": "stream",
     "text": [
      "BTC_Ret ~ L_BTC_ETH_F1_ratio + L_BTC_ETH_F2_ratio + L_BTC_ETH_F4_ratio + L_BTC_ETH_F6_ratio + L_BTC_ETH_F13_ratio + L_BTC_ETH_F14_ratio + L_BTC_ETH_F20_ratio + L_BTC_ETH_F21_ratio\n"
     ]
    }
   ],
   "source": [
    "lm_string_BTC_ETH_Ratio='BTC_Ret ~ L_BTC_ETH_F1_ratio + L_BTC_ETH_F2_ratio + L_BTC_ETH_F4_ratio + L_BTC_ETH_F6_ratio + L_BTC_ETH_F13_ratio + L_BTC_ETH_F14_ratio + L_BTC_ETH_F20_ratio + L_BTC_ETH_F21_ratio'\n",
    "print(lm_string_BTC_ETH_Ratio)"
   ]
  },
  {
   "cell_type": "code",
   "execution_count": 374,
   "metadata": {},
   "outputs": [
    {
     "name": "stdout",
     "output_type": "stream",
     "text": [
      "                            OLS Regression Results                            \n",
      "==============================================================================\n",
      "Dep. Variable:                BTC_Ret   R-squared:                       0.010\n",
      "Model:                            OLS   Adj. R-squared:                 -0.004\n",
      "Method:                 Least Squares   F-statistic:                    0.6984\n",
      "Date:                Fri, 30 Sep 2022   Prob (F-statistic):              0.693\n",
      "Time:                        14:28:33   Log-Likelihood:                 986.59\n",
      "No. Observations:                 546   AIC:                            -1955.\n",
      "Df Residuals:                     537   BIC:                            -1916.\n",
      "Df Model:                           8                                         \n",
      "Covariance Type:            nonrobust                                         \n",
      "=======================================================================================\n",
      "                          coef    std err          t      P>|t|      [0.025      0.975]\n",
      "---------------------------------------------------------------------------------------\n",
      "Intercept               0.9474      1.866      0.508      0.612      -2.718       4.613\n",
      "L_BTC_ETH_F1_ratio     -0.0018      0.014     -0.125      0.901      -0.030       0.027\n",
      "L_BTC_ETH_F2_ratio     -8.8342     19.964     -0.443      0.658     -48.050      30.382\n",
      "L_BTC_ETH_F4_ratio      0.0002      0.001      0.271      0.786      -0.001       0.001\n",
      "L_BTC_ETH_F6_ratio    -24.9797     21.910     -1.140      0.255     -68.020      18.061\n",
      "L_BTC_ETH_F13_ratio  3.173e-07   2.34e-07      1.358      0.175   -1.42e-07    7.76e-07\n",
      "L_BTC_ETH_F14_ratio     1.8655      6.611      0.282      0.778     -11.122      14.853\n",
      "L_BTC_ETH_F20_ratio    -5.5448     11.660     -0.476      0.635     -28.449      17.360\n",
      "L_BTC_ETH_F21_ratio     0.0234      0.119      0.197      0.844      -0.210       0.256\n",
      "==============================================================================\n",
      "Omnibus:                       25.138   Durbin-Watson:                   2.080\n",
      "Prob(Omnibus):                  0.000   Jarque-Bera (JB):               71.615\n",
      "Skew:                           0.017   Prob(JB):                     2.81e-16\n",
      "Kurtosis:                       4.774   Cond. No.                     3.67e+09\n",
      "==============================================================================\n",
      "\n",
      "Notes:\n",
      "[1] Standard Errors assume that the covariance matrix of the errors is correctly specified.\n",
      "[2] The condition number is large, 3.67e+09. This might indicate that there are\n",
      "strong multicollinearity or other numerical problems.\n"
     ]
    }
   ],
   "source": [
    "ratio_lag_model=smf.ols(lm_string_BTC_ETH_Ratio, data = btc_eth_factor_ratios_lags).fit().summary()\n",
    "print(ratio_lag_model)"
   ]
  },
  {
   "cell_type": "markdown",
   "metadata": {},
   "source": [
    "# Monthly Models"
   ]
  },
  {
   "cell_type": "markdown",
   "metadata": {},
   "source": [
    "### Non-Lagged Non-Ratio Models"
   ]
  },
  {
   "cell_type": "code",
   "execution_count": 383,
   "metadata": {},
   "outputs": [
    {
     "name": "stdout",
     "output_type": "stream",
     "text": [
      "BTC_Ret ~ BTC_F1_MA22 + BTC_F2_MA22 + BTC_F4_MA22 + BTC_F6_MA22 + BTC_F13_MA22 + BTC_F14_MA22 + BTC_F20_MA22 + BTC_F21_MA22\n",
      "ETH_Ret ~ ETH_F1_MA22 + ETH_F2_MA22 + ETH_F4_MA22 + ETH_F6_MA22 + ETH_F13_MA22 + ETH_F14_MA22 + ETH_F20_MA22 + ETH_F21_MA22 + ETH_F22_MA22\n"
     ]
    }
   ],
   "source": [
    "lm_string_BTC_m='BTC_Ret ~ BTC_F1_MA22 + BTC_F2_MA22 + BTC_F4_MA22 + BTC_F6_MA22 + BTC_F13_MA22 + BTC_F14_MA22 + BTC_F20_MA22 + BTC_F21_MA22'\n",
    "lm_string_ETH_m='ETH_Ret ~ ETH_F1_MA22 + ETH_F2_MA22 + ETH_F4_MA22 + ETH_F6_MA22 + ETH_F13_MA22 + ETH_F14_MA22 + ETH_F20_MA22 + ETH_F21_MA22 + ETH_F22_MA22'\n",
    "print(lm_string_BTC_m)\n",
    "print(lm_string_ETH_m)"
   ]
  },
  {
   "cell_type": "code",
   "execution_count": 384,
   "metadata": {},
   "outputs": [
    {
     "name": "stdout",
     "output_type": "stream",
     "text": [
      "                            OLS Regression Results                            \n",
      "==============================================================================\n",
      "Dep. Variable:                BTC_Ret   R-squared:                       0.647\n",
      "Model:                            OLS   Adj. R-squared:                  0.454\n",
      "Method:                 Least Squares   F-statistic:                     3.356\n",
      "Date:                Fri, 30 Sep 2022   Prob (F-statistic):             0.0393\n",
      "Time:                        14:33:42   Log-Likelihood:                 10.891\n",
      "No. Observations:                  18   AIC:                            -7.783\n",
      "Df Residuals:                      11   BIC:                            -1.550\n",
      "Df Model:                           6                                         \n",
      "Covariance Type:            nonrobust                                         \n",
      "================================================================================\n",
      "                   coef    std err          t      P>|t|      [0.025      0.975]\n",
      "--------------------------------------------------------------------------------\n",
      "Intercept     1.426e-07      1e-07      1.421      0.183   -7.83e-08    3.64e-07\n",
      "BTC_F1_MA22   2.685e-07   2.15e-06      0.125      0.903   -4.47e-06    5.01e-06\n",
      "BTC_F2_MA22     -0.0012      0.001     -1.421      0.183      -0.003       0.001\n",
      "BTC_F4_MA22    1.33e-06   2.34e-06      0.569      0.581   -3.81e-06    6.47e-06\n",
      "BTC_F6_MA22  -4.602e-13   2.55e-13     -1.802      0.099   -1.02e-12    1.02e-13\n",
      "BTC_F13_MA22  5.763e-08   3.39e-08      1.700      0.117    -1.7e-08    1.32e-07\n",
      "BTC_F14_MA22    -0.0072      0.005     -1.421      0.183      -0.018       0.004\n",
      "BTC_F20_MA22  3.247e-07   2.65e-07      1.227      0.245   -2.58e-07    9.07e-07\n",
      "BTC_F21_MA22 -5.951e-07   5.17e-06     -0.115      0.910    -1.2e-05    1.08e-05\n",
      "==============================================================================\n",
      "Omnibus:                        5.637   Durbin-Watson:                   2.662\n",
      "Prob(Omnibus):                  0.060   Jarque-Bera (JB):                1.571\n",
      "Skew:                           0.075   Prob(JB):                        0.456\n",
      "Kurtosis:                       1.560   Cond. No.                     2.34e+26\n",
      "==============================================================================\n",
      "\n",
      "Notes:\n",
      "[1] Standard Errors assume that the covariance matrix of the errors is correctly specified.\n",
      "[2] The smallest eigenvalue is 1.83e-25. This might indicate that there are\n",
      "strong multicollinearity problems or that the design matrix is singular.\n"
     ]
    },
    {
     "name": "stderr",
     "output_type": "stream",
     "text": [
      "C:\\Users\\19084\\Anaconda3\\lib\\site-packages\\scipy\\stats\\stats.py:1542: UserWarning: kurtosistest only valid for n>=20 ... continuing anyway, n=18\n",
      "  \"anyway, n=%i\" % int(n))\n"
     ]
    }
   ],
   "source": [
    "model_BTC_m=smf.ols(lm_string_BTC_m, data = btc_eth_model_m).fit().summary()\n",
    "print(model_BTC_m)"
   ]
  },
  {
   "cell_type": "code",
   "execution_count": 385,
   "metadata": {},
   "outputs": [
    {
     "name": "stdout",
     "output_type": "stream",
     "text": [
      "                            OLS Regression Results                            \n",
      "==============================================================================\n",
      "Dep. Variable:                ETH_Ret   R-squared:                       0.563\n",
      "Model:                            OLS   Adj. R-squared:                  0.324\n",
      "Method:                 Least Squares   F-statistic:                     2.358\n",
      "Date:                Fri, 30 Sep 2022   Prob (F-statistic):              0.103\n",
      "Time:                        14:33:46   Log-Likelihood:                 3.1413\n",
      "No. Observations:                  18   AIC:                             7.717\n",
      "Df Residuals:                      11   BIC:                             13.95\n",
      "Df Model:                           6                                         \n",
      "Covariance Type:            nonrobust                                         \n",
      "================================================================================\n",
      "                   coef    std err          t      P>|t|      [0.025      0.975]\n",
      "--------------------------------------------------------------------------------\n",
      "Intercept     1.461e-09   1.36e-09      1.074      0.306   -1.53e-09    4.45e-09\n",
      "ETH_F1_MA22  -2.409e-06    2.2e-06     -1.096      0.296   -7.25e-06    2.43e-06\n",
      "ETH_F2_MA22   8.788e-05   8.18e-05      1.074      0.306   -9.22e-05       0.000\n",
      "ETH_F4_MA22   2.737e-07   1.46e-05      0.019      0.985   -3.18e-05    3.23e-05\n",
      "ETH_F6_MA22  -2.413e-17   7.04e-17     -0.343      0.738   -1.79e-16    1.31e-16\n",
      "ETH_F13_MA22  1.177e-05    1.1e-05      1.074      0.306   -1.23e-05    3.59e-05\n",
      "ETH_F14_MA22     0.0002      0.000      1.074      0.306      -0.000       0.001\n",
      "ETH_F20_MA22 -2.852e-08   2.73e-08     -1.044      0.319   -8.86e-08    3.16e-08\n",
      "ETH_F21_MA22  1.911e-06   1.87e-06      1.019      0.330   -2.22e-06    6.04e-06\n",
      "ETH_F22_MA22 -4.231e-07   1.83e-06     -0.231      0.822   -4.46e-06    3.62e-06\n",
      "==============================================================================\n",
      "Omnibus:                        1.159   Durbin-Watson:                   2.215\n",
      "Prob(Omnibus):                  0.560   Jarque-Bera (JB):                0.883\n",
      "Skew:                           0.250   Prob(JB):                        0.643\n",
      "Kurtosis:                       2.037   Cond. No.                     1.37e+19\n",
      "==============================================================================\n",
      "\n",
      "Notes:\n",
      "[1] Standard Errors assume that the covariance matrix of the errors is correctly specified.\n",
      "[2] The condition number is large, 1.37e+19. This might indicate that there are\n",
      "strong multicollinearity or other numerical problems.\n"
     ]
    },
    {
     "name": "stderr",
     "output_type": "stream",
     "text": [
      "C:\\Users\\19084\\Anaconda3\\lib\\site-packages\\scipy\\stats\\stats.py:1542: UserWarning: kurtosistest only valid for n>=20 ... continuing anyway, n=18\n",
      "  \"anyway, n=%i\" % int(n))\n"
     ]
    }
   ],
   "source": [
    "model_ETH_m=smf.ols(lm_string_ETH, data = btc_eth_model_m).fit().summary()\n",
    "print(model_ETH_m)"
   ]
  },
  {
   "cell_type": "markdown",
   "metadata": {},
   "source": [
    "### Non-Lagged Ratio Models"
   ]
  },
  {
   "cell_type": "code",
   "execution_count": 386,
   "metadata": {},
   "outputs": [
    {
     "name": "stdout",
     "output_type": "stream",
     "text": [
      "BTC_Ret ~ L_BTC_F1_MA22 + L_BTC_F2_MA22 + L_BTC_F4_MA22 + L_BTC_F6_MA22 + L_BTC_F13_MA22 + L_BTC_F14_MA22 + L_BTC_F20_MA22 + L_BTC_F21_MA22\n",
      "ETH_Ret ~ L_ETH_F1_MA22 + L_ETH_F2_MA22 + L_ETH_F4_MA22 + L_ETH_F6_MA22 + L_ETH_F13_MA22 + L_ETH_F14_MA22 + L_ETH_F20_MA22 + L_ETH_F21_MA22 + L_ETH_F22_MA22\n"
     ]
    }
   ],
   "source": [
    "lm_string_BTC_m='BTC_Ret ~ L_BTC_F1_MA22 + L_BTC_F2_MA22 + L_BTC_F4_MA22 + L_BTC_F6_MA22 + L_BTC_F13_MA22 + L_BTC_F14_MA22 + L_BTC_F20_MA22 + L_BTC_F21_MA22'\n",
    "lm_string_ETH_m='ETH_Ret ~ L_ETH_F1_MA22 + L_ETH_F2_MA22 + L_ETH_F4_MA22 + L_ETH_F6_MA22 + L_ETH_F13_MA22 + L_ETH_F14_MA22 + L_ETH_F20_MA22 + L_ETH_F21_MA22 + L_ETH_F22_MA22'\n",
    "print(lm_string_BTC_m)\n",
    "print(lm_string_ETH_m)"
   ]
  },
  {
   "cell_type": "code",
   "execution_count": 387,
   "metadata": {},
   "outputs": [
    {
     "name": "stdout",
     "output_type": "stream",
     "text": [
      "                            OLS Regression Results                            \n",
      "==============================================================================\n",
      "Dep. Variable:                BTC_Ret   R-squared:                       0.476\n",
      "Model:                            OLS   Adj. R-squared:                  0.190\n",
      "Method:                 Least Squares   F-statistic:                     1.663\n",
      "Date:                Fri, 30 Sep 2022   Prob (F-statistic):              0.220\n",
      "Time:                        14:35:35   Log-Likelihood:                 7.3366\n",
      "No. Observations:                  18   AIC:                           -0.6733\n",
      "Df Residuals:                      11   BIC:                             5.559\n",
      "Df Model:                           6                                         \n",
      "Covariance Type:            nonrobust                                         \n",
      "==================================================================================\n",
      "                     coef    std err          t      P>|t|      [0.025      0.975]\n",
      "----------------------------------------------------------------------------------\n",
      "Intercept      -1.221e-07   9.07e-08     -1.347      0.205   -3.22e-07    7.75e-08\n",
      "L_BTC_F1_MA22  -1.209e-06   2.46e-06     -0.492      0.633   -6.62e-06     4.2e-06\n",
      "L_BTC_F2_MA22     -0.0014      0.001     -1.347      0.205      -0.004       0.001\n",
      "L_BTC_F4_MA22   2.989e-06   2.73e-06      1.097      0.296   -3.01e-06    8.99e-06\n",
      "L_BTC_F6_MA22  -5.667e-13   3.28e-13     -1.727      0.112   -1.29e-12    1.56e-13\n",
      "L_BTC_F13_MA22  7.084e-08   4.33e-08      1.634      0.130   -2.46e-08    1.66e-07\n",
      "L_BTC_F14_MA22    -0.0087      0.006     -1.347      0.205      -0.023       0.006\n",
      "L_BTC_F20_MA22   3.93e-07    3.3e-07      1.189      0.259   -3.34e-07    1.12e-06\n",
      "L_BTC_F21_MA22 -1.604e-06   6.01e-06     -0.267      0.794   -1.48e-05    1.16e-05\n",
      "==============================================================================\n",
      "Omnibus:                        1.767   Durbin-Watson:                   2.009\n",
      "Prob(Omnibus):                  0.413   Jarque-Bera (JB):                1.040\n",
      "Skew:                           0.227   Prob(JB):                        0.595\n",
      "Kurtosis:                       1.913   Cond. No.                     2.62e+25\n",
      "==============================================================================\n",
      "\n",
      "Notes:\n",
      "[1] Standard Errors assume that the covariance matrix of the errors is correctly specified.\n",
      "[2] The smallest eigenvalue is 1.38e-23. This might indicate that there are\n",
      "strong multicollinearity problems or that the design matrix is singular.\n"
     ]
    },
    {
     "name": "stderr",
     "output_type": "stream",
     "text": [
      "C:\\Users\\19084\\Anaconda3\\lib\\site-packages\\scipy\\stats\\stats.py:1542: UserWarning: kurtosistest only valid for n>=20 ... continuing anyway, n=18\n",
      "  \"anyway, n=%i\" % int(n))\n"
     ]
    }
   ],
   "source": [
    "lag_model_BTC_m=smf.ols(lm_string_BTC_m, data = btc_eth_model_lags_m).fit().summary()\n",
    "print(lag_model_BTC_m)"
   ]
  },
  {
   "cell_type": "code",
   "execution_count": 388,
   "metadata": {},
   "outputs": [
    {
     "name": "stdout",
     "output_type": "stream",
     "text": [
      "                            OLS Regression Results                            \n",
      "==============================================================================\n",
      "Dep. Variable:                ETH_Ret   R-squared:                       0.635\n",
      "Model:                            OLS   Adj. R-squared:                  0.437\n",
      "Method:                 Least Squares   F-statistic:                     3.196\n",
      "Date:                Fri, 30 Sep 2022   Prob (F-statistic):             0.0455\n",
      "Time:                        14:36:02   Log-Likelihood:                 4.7804\n",
      "No. Observations:                  18   AIC:                             4.439\n",
      "Df Residuals:                      11   BIC:                             10.67\n",
      "Df Model:                           6                                         \n",
      "Covariance Type:            nonrobust                                         \n",
      "==================================================================================\n",
      "                     coef    std err          t      P>|t|      [0.025      0.975]\n",
      "----------------------------------------------------------------------------------\n",
      "Intercept       4.559e-09   4.37e-09      1.043      0.319   -5.06e-09    1.42e-08\n",
      "L_ETH_F1_MA22  -9.089e-07   1.97e-06     -0.460      0.654   -5.25e-06    3.44e-06\n",
      "L_ETH_F2_MA22      0.0001      0.000      1.043      0.319      -0.000       0.000\n",
      "L_ETH_F4_MA22   3.881e-06   1.33e-05      0.292      0.776   -2.54e-05    3.31e-05\n",
      "L_ETH_F6_MA22  -9.165e-17   6.39e-17     -1.434      0.179   -2.32e-16     4.9e-17\n",
      "L_ETH_F13_MA22  1.542e-05   1.48e-05      1.043      0.319   -1.71e-05     4.8e-05\n",
      "L_ETH_F14_MA22     0.0003      0.000      1.043      0.319      -0.000       0.001\n",
      "L_ETH_F20_MA22 -3.009e-08   4.48e-08     -0.671      0.516   -1.29e-07    6.86e-08\n",
      "L_ETH_F21_MA22 -7.798e-07    1.7e-06     -0.458      0.656   -4.53e-06    2.97e-06\n",
      "L_ETH_F22_MA22  5.438e-07   1.64e-06      0.332      0.746   -3.06e-06    4.14e-06\n",
      "==============================================================================\n",
      "Omnibus:                        2.928   Durbin-Watson:                   2.683\n",
      "Prob(Omnibus):                  0.231   Jarque-Bera (JB):                1.775\n",
      "Skew:                          -0.769   Prob(JB):                        0.412\n",
      "Kurtosis:                       3.006   Cond. No.                     1.20e+19\n",
      "==============================================================================\n",
      "\n",
      "Notes:\n",
      "[1] Standard Errors assume that the covariance matrix of the errors is correctly specified.\n",
      "[2] The condition number is large, 1.2e+19. This might indicate that there are\n",
      "strong multicollinearity or other numerical problems.\n"
     ]
    },
    {
     "name": "stderr",
     "output_type": "stream",
     "text": [
      "C:\\Users\\19084\\Anaconda3\\lib\\site-packages\\scipy\\stats\\stats.py:1542: UserWarning: kurtosistest only valid for n>=20 ... continuing anyway, n=18\n",
      "  \"anyway, n=%i\" % int(n))\n"
     ]
    }
   ],
   "source": [
    "lag_model_ETH_m=smf.ols(lm_string_ETH_m, data = btc_eth_model_lags_m).fit().summary()\n",
    "print(lag_model_ETH_m)"
   ]
  },
  {
   "cell_type": "markdown",
   "metadata": {},
   "source": [
    "## Monthly Ratio Models"
   ]
  },
  {
   "cell_type": "markdown",
   "metadata": {},
   "source": [
    "### Ratio Non-Lagged Model"
   ]
  },
  {
   "cell_type": "code",
   "execution_count": 392,
   "metadata": {},
   "outputs": [
    {
     "name": "stdout",
     "output_type": "stream",
     "text": [
      "BTC_Ret ~ BTC_ETH_F1_ratio + BTC_ETH_F2_ratio + BTC_ETH_F4_ratio + BTC_ETH_F6_ratio + BTC_ETH_F13_ratio + BTC_ETH_F14_ratio + BTC_ETH_F20_ratio + BTC_ETH_F21_ratio\n"
     ]
    }
   ],
   "source": [
    "lm_string_BTC_ETH_Ratio_m='BTC_Ret ~ BTC_ETH_F1_ratio + BTC_ETH_F2_ratio + BTC_ETH_F4_ratio + BTC_ETH_F6_ratio + BTC_ETH_F13_ratio + BTC_ETH_F14_ratio + BTC_ETH_F20_ratio + BTC_ETH_F21_ratio'\n",
    "print(lm_string_BTC_ETH_Ratio_m)"
   ]
  },
  {
   "cell_type": "code",
   "execution_count": 393,
   "metadata": {},
   "outputs": [
    {
     "name": "stdout",
     "output_type": "stream",
     "text": [
      "                            OLS Regression Results                            \n",
      "==============================================================================\n",
      "Dep. Variable:                BTC_Ret   R-squared:                       0.402\n",
      "Model:                            OLS   Adj. R-squared:                 -0.130\n",
      "Method:                 Least Squares   F-statistic:                    0.7548\n",
      "Date:                Fri, 30 Sep 2022   Prob (F-statistic):              0.649\n",
      "Time:                        14:39:34   Log-Likelihood:                 6.1467\n",
      "No. Observations:                  18   AIC:                             5.707\n",
      "Df Residuals:                       9   BIC:                             13.72\n",
      "Df Model:                           8                                         \n",
      "Covariance Type:            nonrobust                                         \n",
      "=====================================================================================\n",
      "                        coef    std err          t      P>|t|      [0.025      0.975]\n",
      "-------------------------------------------------------------------------------------\n",
      "Intercept            44.5553     92.344      0.482      0.641    -164.340     253.451\n",
      "BTC_ETH_F1_ratio     -1.0687      1.031     -1.036      0.327      -3.401       1.264\n",
      "BTC_ETH_F2_ratio   -636.9500   1423.423     -0.447      0.665   -3856.957    2583.057\n",
      "BTC_ETH_F4_ratio      0.0332      0.038      0.881      0.401      -0.052       0.119\n",
      "BTC_ETH_F6_ratio  -2932.0444   2673.675     -1.097      0.301   -8980.318    3116.230\n",
      "BTC_ETH_F13_ratio  3.164e-05   3.04e-05      1.042      0.325   -3.71e-05       0.000\n",
      "BTC_ETH_F14_ratio   122.4492    458.917      0.267      0.796    -915.693    1160.591\n",
      "BTC_ETH_F20_ratio  -240.7425    556.667     -0.432      0.676   -1500.010    1018.525\n",
      "BTC_ETH_F21_ratio     5.5687      9.903      0.562      0.588     -16.834      27.972\n",
      "==============================================================================\n",
      "Omnibus:                        0.914   Durbin-Watson:                   2.285\n",
      "Prob(Omnibus):                  0.633   Jarque-Bera (JB):                0.870\n",
      "Skew:                           0.414   Prob(JB):                        0.647\n",
      "Kurtosis:                       2.311   Cond. No.                     1.25e+10\n",
      "==============================================================================\n",
      "\n",
      "Notes:\n",
      "[1] Standard Errors assume that the covariance matrix of the errors is correctly specified.\n",
      "[2] The condition number is large, 1.25e+10. This might indicate that there are\n",
      "strong multicollinearity or other numerical problems.\n"
     ]
    },
    {
     "name": "stderr",
     "output_type": "stream",
     "text": [
      "C:\\Users\\19084\\Anaconda3\\lib\\site-packages\\scipy\\stats\\stats.py:1542: UserWarning: kurtosistest only valid for n>=20 ... continuing anyway, n=18\n",
      "  \"anyway, n=%i\" % int(n))\n"
     ]
    }
   ],
   "source": [
    "ratio_model_m=smf.ols(lm_string_BTC_ETH_Ratio_m, data = btc_eth_factor_ratios_m).fit().summary()\n",
    "print(ratio_model_m)"
   ]
  },
  {
   "cell_type": "markdown",
   "metadata": {},
   "source": [
    "### Ratio Lagged Model"
   ]
  },
  {
   "cell_type": "code",
   "execution_count": 394,
   "metadata": {},
   "outputs": [
    {
     "name": "stdout",
     "output_type": "stream",
     "text": [
      "BTC_Ret ~ L_BTC_ETH_F1_ratio + L_BTC_ETH_F2_ratio + L_BTC_ETH_F4_ratio + L_BTC_ETH_F6_ratio + L_BTC_ETH_F13_ratio + L_BTC_ETH_F14_ratio + L_BTC_ETH_F20_ratio + L_BTC_ETH_F21_ratio\n"
     ]
    }
   ],
   "source": [
    "lm_string_BTC_ETH_Ratio_m='BTC_Ret ~ L_BTC_ETH_F1_ratio + L_BTC_ETH_F2_ratio + L_BTC_ETH_F4_ratio + L_BTC_ETH_F6_ratio + L_BTC_ETH_F13_ratio + L_BTC_ETH_F14_ratio + L_BTC_ETH_F20_ratio + L_BTC_ETH_F21_ratio'\n",
    "print(lm_string_BTC_ETH_Ratio_m)"
   ]
  },
  {
   "cell_type": "code",
   "execution_count": 395,
   "metadata": {},
   "outputs": [
    {
     "name": "stdout",
     "output_type": "stream",
     "text": [
      "                            OLS Regression Results                            \n",
      "==============================================================================\n",
      "Dep. Variable:                BTC_Ret   R-squared:                       0.485\n",
      "Model:                            OLS   Adj. R-squared:                  0.026\n",
      "Method:                 Least Squares   F-statistic:                     1.058\n",
      "Date:                Fri, 30 Sep 2022   Prob (F-statistic):              0.463\n",
      "Time:                        14:40:39   Log-Likelihood:                 7.4916\n",
      "No. Observations:                  18   AIC:                             3.017\n",
      "Df Residuals:                       9   BIC:                             11.03\n",
      "Df Model:                           8                                         \n",
      "Covariance Type:            nonrobust                                         \n",
      "=======================================================================================\n",
      "                          coef    std err          t      P>|t|      [0.025      0.975]\n",
      "---------------------------------------------------------------------------------------\n",
      "Intercept              51.7346     87.806      0.589      0.570    -146.897     250.366\n",
      "L_BTC_ETH_F1_ratio     -1.1795      0.984     -1.198      0.261      -3.406       1.047\n",
      "L_BTC_ETH_F2_ratio  -2597.8999   1315.588     -1.975      0.080   -5573.968     378.168\n",
      "L_BTC_ETH_F4_ratio     -0.0206      0.032     -0.639      0.539      -0.093       0.052\n",
      "L_BTC_ETH_F6_ratio  -2875.2629   3335.032     -0.862      0.411   -1.04e+04    4669.105\n",
      "L_BTC_ETH_F13_ratio  3.266e-05   3.77e-05      0.867      0.408   -5.25e-05       0.000\n",
      "L_BTC_ETH_F14_ratio   741.8517    430.703      1.722      0.119    -232.466    1716.170\n",
      "L_BTC_ETH_F20_ratio  -269.1814    521.800     -0.516      0.618   -1449.575     911.212\n",
      "L_BTC_ETH_F21_ratio     8.5102      9.167      0.928      0.377     -12.227      29.248\n",
      "==============================================================================\n",
      "Omnibus:                        0.326   Durbin-Watson:                   1.599\n",
      "Prob(Omnibus):                  0.849   Jarque-Bera (JB):                0.482\n",
      "Skew:                          -0.154   Prob(JB):                        0.786\n",
      "Kurtosis:                       2.260   Cond. No.                     1.78e+10\n",
      "==============================================================================\n",
      "\n",
      "Notes:\n",
      "[1] Standard Errors assume that the covariance matrix of the errors is correctly specified.\n",
      "[2] The condition number is large, 1.78e+10. This might indicate that there are\n",
      "strong multicollinearity or other numerical problems.\n"
     ]
    },
    {
     "name": "stderr",
     "output_type": "stream",
     "text": [
      "C:\\Users\\19084\\Anaconda3\\lib\\site-packages\\scipy\\stats\\stats.py:1542: UserWarning: kurtosistest only valid for n>=20 ... continuing anyway, n=18\n",
      "  \"anyway, n=%i\" % int(n))\n"
     ]
    }
   ],
   "source": [
    "ratio_lag_model_m=smf.ols(lm_string_BTC_ETH_Ratio_m, data = btc_eth_factor_ratios_lags_m).fit().summary()\n",
    "print(ratio_lag_model_m)"
   ]
  },
  {
   "cell_type": "code",
   "execution_count": null,
   "metadata": {},
   "outputs": [],
   "source": []
  },
  {
   "cell_type": "code",
   "execution_count": null,
   "metadata": {},
   "outputs": [],
   "source": []
  },
  {
   "cell_type": "code",
   "execution_count": null,
   "metadata": {},
   "outputs": [],
   "source": []
  },
  {
   "cell_type": "code",
   "execution_count": null,
   "metadata": {},
   "outputs": [],
   "source": []
  },
  {
   "cell_type": "code",
   "execution_count": null,
   "metadata": {},
   "outputs": [],
   "source": []
  }
 ],
 "metadata": {
  "kernelspec": {
   "display_name": "Python 3 (ipykernel)",
   "language": "python",
   "name": "python3"
  },
  "language_info": {
   "codemirror_mode": {
    "name": "ipython",
    "version": 3
   },
   "file_extension": ".py",
   "mimetype": "text/x-python",
   "name": "python",
   "nbconvert_exporter": "python",
   "pygments_lexer": "ipython3",
   "version": "3.7.3"
  },
  "toc": {
   "base_numbering": 1,
   "nav_menu": {},
   "number_sections": true,
   "sideBar": true,
   "skip_h1_title": false,
   "title_cell": "Table of Contents",
   "title_sidebar": "Contents",
   "toc_cell": false,
   "toc_position": {
    "height": "calc(100% - 180px)",
    "left": "10px",
    "top": "150px",
    "width": "384px"
   },
   "toc_section_display": true,
   "toc_window_display": true
  }
 },
 "nbformat": 4,
 "nbformat_minor": 4
}
